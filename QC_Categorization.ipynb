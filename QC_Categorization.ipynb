{
  "nbformat": 4,
  "nbformat_minor": 0,
  "metadata": {
    "colab": {
      "provenance": []
    },
    "kernelspec": {
      "name": "python3",
      "display_name": "Python 3"
    },
    "language_info": {
      "name": "python"
    },
    "gpuClass": "standard"
  },
  "cells": [
    {
      "cell_type": "markdown",
      "source": [
        "Importing Libraries"
      ],
      "metadata": {
        "id": "vWstxnNxLqQl"
      }
    },
    {
      "cell_type": "code",
      "execution_count": 1,
      "metadata": {
        "id": "QMbcr_qcdT-Z"
      },
      "outputs": [],
      "source": [
        "import numpy as np\n",
        "import matplotlib.pyplot as plt\n",
        "import pandas as pd\n",
        "from sklearn import svm\n",
        "from sklearn.tree import DecisionTreeClassifier\n",
        "from sklearn.linear_model import LogisticRegression\n",
        "from sklearn.model_selection import train_test_split\n",
        "import seaborn as sns"
      ]
    },
    {
      "cell_type": "markdown",
      "source": [
        "Import File\n"
      ],
      "metadata": {
        "id": "9xjyxZH6L-54"
      }
    },
    {
      "cell_type": "code",
      "source": [
        "from google.colab import drive\n",
        "drive.mount('/content/drive')"
      ],
      "metadata": {
        "colab": {
          "base_uri": "https://localhost:8080/"
        },
        "id": "JJLNq4Cu8E23",
        "outputId": "6bdca05d-0afe-4358-edc4-e90f774a9b12"
      },
      "execution_count": 3,
      "outputs": [
        {
          "output_type": "stream",
          "name": "stdout",
          "text": [
            "Drive already mounted at /content/drive; to attempt to forcibly remount, call drive.mount(\"/content/drive\", force_remount=True).\n"
          ]
        }
      ]
    },
    {
      "cell_type": "code",
      "source": [
        "dataset = pd.read_excel(\"/content/drive/MyDrive/Colab Notebooks/QC CAT FINAL.xlsx\")"
      ],
      "metadata": {
        "id": "JZy69KxW19_4"
      },
      "execution_count": 4,
      "outputs": []
    },
    {
      "cell_type": "markdown",
      "source": [
        "DATA ANALYSIS"
      ],
      "metadata": {
        "id": "pgNC784uMZKP"
      }
    },
    {
      "cell_type": "code",
      "source": [
        "dataset.head(5)"
      ],
      "metadata": {
        "id": "fA-Wr1vPSULa",
        "colab": {
          "base_uri": "https://localhost:8080/",
          "height": 521
        },
        "outputId": "b379b39e-a02a-4004-b843-e54a02ab16cf"
      },
      "execution_count": 5,
      "outputs": [
        {
          "output_type": "execute_result",
          "data": {
            "text/plain": [
              "               SKU                                        Description  \\\n",
              "0  ACBNRC51BE10003  Dining Bench upholstery Cotton fabric (Colour ...   \n",
              "1  ACBNRC51FR10004  Latte Bench Upholstery Cotton Fabric Colour - ...   \n",
              "2  ACBNRC51OL10003  Dining Bench upholstery Cotton fabric (Colour ...   \n",
              "3  ACCHRC51BE10003  Dining Chairs upholstery Cotton fabric Colour ...   \n",
              "4  ACCHRC51OL10003  Dining Chairs upholstery Cotton fabric Colour ...   \n",
              "\n",
              "        Ecosystem Default  QC CAT. QC_CAT  Delivered  Doorstep Replacements  \\\n",
              "0  JAIPUR/JODHPUR                C      B         40                      0   \n",
              "1  JAIPUR/JODHPUR                C     A+          3                      0   \n",
              "2  JAIPUR/JODHPUR                C     A+         18                      0   \n",
              "3  JAIPUR/JODHPUR                C     A+        154                      0   \n",
              "4  JAIPUR/JODHPUR                C     A+         58                      0   \n",
              "\n",
              "   Doorstep Replacements %  Doorstep Repairs  Doorstep Repairs %  \\\n",
              "0                      0.0                 0                 0.0   \n",
              "1                      0.0                 0                 0.0   \n",
              "2                      0.0                 0                 0.0   \n",
              "3                      0.0                 0                 0.0   \n",
              "4                      0.0                 0                 0.0   \n",
              "\n",
              "   FC/DC Rejects  FC/DC Rejects %  Delivery Check  Reject Check  Movement  \\\n",
              "0              0              0.0               1             0        -1   \n",
              "1              0              0.0               0             0         0   \n",
              "2              0              0.0               1             0        -1   \n",
              "3              0              0.0               1             0        -1   \n",
              "4              0              0.0               1             0        -1   \n",
              "\n",
              "  Default Move Current Move Int. Move Final Move  \n",
              "0            B            A         A          A  \n",
              "1            C           A+        A+         A+  \n",
              "2            B           A+        A+         A+  \n",
              "3            B           A+        A+         A+  \n",
              "4            B           A+        A+         A+  "
            ],
            "text/html": [
              "\n",
              "  <div id=\"df-42d2eb6e-4be8-4fc3-bccd-69fe715e5e1b\" class=\"colab-df-container\">\n",
              "    <div>\n",
              "<style scoped>\n",
              "    .dataframe tbody tr th:only-of-type {\n",
              "        vertical-align: middle;\n",
              "    }\n",
              "\n",
              "    .dataframe tbody tr th {\n",
              "        vertical-align: top;\n",
              "    }\n",
              "\n",
              "    .dataframe thead th {\n",
              "        text-align: right;\n",
              "    }\n",
              "</style>\n",
              "<table border=\"1\" class=\"dataframe\">\n",
              "  <thead>\n",
              "    <tr style=\"text-align: right;\">\n",
              "      <th></th>\n",
              "      <th>SKU</th>\n",
              "      <th>Description</th>\n",
              "      <th>Ecosystem</th>\n",
              "      <th>Default  QC CAT.</th>\n",
              "      <th>QC_CAT</th>\n",
              "      <th>Delivered</th>\n",
              "      <th>Doorstep Replacements</th>\n",
              "      <th>Doorstep Replacements %</th>\n",
              "      <th>Doorstep Repairs</th>\n",
              "      <th>Doorstep Repairs %</th>\n",
              "      <th>FC/DC Rejects</th>\n",
              "      <th>FC/DC Rejects %</th>\n",
              "      <th>Delivery Check</th>\n",
              "      <th>Reject Check</th>\n",
              "      <th>Movement</th>\n",
              "      <th>Default Move</th>\n",
              "      <th>Current Move</th>\n",
              "      <th>Int. Move</th>\n",
              "      <th>Final Move</th>\n",
              "    </tr>\n",
              "  </thead>\n",
              "  <tbody>\n",
              "    <tr>\n",
              "      <th>0</th>\n",
              "      <td>ACBNRC51BE10003</td>\n",
              "      <td>Dining Bench upholstery Cotton fabric (Colour ...</td>\n",
              "      <td>JAIPUR/JODHPUR</td>\n",
              "      <td>C</td>\n",
              "      <td>B</td>\n",
              "      <td>40</td>\n",
              "      <td>0</td>\n",
              "      <td>0.0</td>\n",
              "      <td>0</td>\n",
              "      <td>0.0</td>\n",
              "      <td>0</td>\n",
              "      <td>0.0</td>\n",
              "      <td>1</td>\n",
              "      <td>0</td>\n",
              "      <td>-1</td>\n",
              "      <td>B</td>\n",
              "      <td>A</td>\n",
              "      <td>A</td>\n",
              "      <td>A</td>\n",
              "    </tr>\n",
              "    <tr>\n",
              "      <th>1</th>\n",
              "      <td>ACBNRC51FR10004</td>\n",
              "      <td>Latte Bench Upholstery Cotton Fabric Colour - ...</td>\n",
              "      <td>JAIPUR/JODHPUR</td>\n",
              "      <td>C</td>\n",
              "      <td>A+</td>\n",
              "      <td>3</td>\n",
              "      <td>0</td>\n",
              "      <td>0.0</td>\n",
              "      <td>0</td>\n",
              "      <td>0.0</td>\n",
              "      <td>0</td>\n",
              "      <td>0.0</td>\n",
              "      <td>0</td>\n",
              "      <td>0</td>\n",
              "      <td>0</td>\n",
              "      <td>C</td>\n",
              "      <td>A+</td>\n",
              "      <td>A+</td>\n",
              "      <td>A+</td>\n",
              "    </tr>\n",
              "    <tr>\n",
              "      <th>2</th>\n",
              "      <td>ACBNRC51OL10003</td>\n",
              "      <td>Dining Bench upholstery Cotton fabric (Colour ...</td>\n",
              "      <td>JAIPUR/JODHPUR</td>\n",
              "      <td>C</td>\n",
              "      <td>A+</td>\n",
              "      <td>18</td>\n",
              "      <td>0</td>\n",
              "      <td>0.0</td>\n",
              "      <td>0</td>\n",
              "      <td>0.0</td>\n",
              "      <td>0</td>\n",
              "      <td>0.0</td>\n",
              "      <td>1</td>\n",
              "      <td>0</td>\n",
              "      <td>-1</td>\n",
              "      <td>B</td>\n",
              "      <td>A+</td>\n",
              "      <td>A+</td>\n",
              "      <td>A+</td>\n",
              "    </tr>\n",
              "    <tr>\n",
              "      <th>3</th>\n",
              "      <td>ACCHRC51BE10003</td>\n",
              "      <td>Dining Chairs upholstery Cotton fabric Colour ...</td>\n",
              "      <td>JAIPUR/JODHPUR</td>\n",
              "      <td>C</td>\n",
              "      <td>A+</td>\n",
              "      <td>154</td>\n",
              "      <td>0</td>\n",
              "      <td>0.0</td>\n",
              "      <td>0</td>\n",
              "      <td>0.0</td>\n",
              "      <td>0</td>\n",
              "      <td>0.0</td>\n",
              "      <td>1</td>\n",
              "      <td>0</td>\n",
              "      <td>-1</td>\n",
              "      <td>B</td>\n",
              "      <td>A+</td>\n",
              "      <td>A+</td>\n",
              "      <td>A+</td>\n",
              "    </tr>\n",
              "    <tr>\n",
              "      <th>4</th>\n",
              "      <td>ACCHRC51OL10003</td>\n",
              "      <td>Dining Chairs upholstery Cotton fabric Colour ...</td>\n",
              "      <td>JAIPUR/JODHPUR</td>\n",
              "      <td>C</td>\n",
              "      <td>A+</td>\n",
              "      <td>58</td>\n",
              "      <td>0</td>\n",
              "      <td>0.0</td>\n",
              "      <td>0</td>\n",
              "      <td>0.0</td>\n",
              "      <td>0</td>\n",
              "      <td>0.0</td>\n",
              "      <td>1</td>\n",
              "      <td>0</td>\n",
              "      <td>-1</td>\n",
              "      <td>B</td>\n",
              "      <td>A+</td>\n",
              "      <td>A+</td>\n",
              "      <td>A+</td>\n",
              "    </tr>\n",
              "  </tbody>\n",
              "</table>\n",
              "</div>\n",
              "    <div class=\"colab-df-buttons\">\n",
              "\n",
              "  <div class=\"colab-df-container\">\n",
              "    <button class=\"colab-df-convert\" onclick=\"convertToInteractive('df-42d2eb6e-4be8-4fc3-bccd-69fe715e5e1b')\"\n",
              "            title=\"Convert this dataframe to an interactive table.\"\n",
              "            style=\"display:none;\">\n",
              "\n",
              "  <svg xmlns=\"http://www.w3.org/2000/svg\" height=\"24px\" viewBox=\"0 -960 960 960\">\n",
              "    <path d=\"M120-120v-720h720v720H120Zm60-500h600v-160H180v160Zm220 220h160v-160H400v160Zm0 220h160v-160H400v160ZM180-400h160v-160H180v160Zm440 0h160v-160H620v160ZM180-180h160v-160H180v160Zm440 0h160v-160H620v160Z\"/>\n",
              "  </svg>\n",
              "    </button>\n",
              "\n",
              "  <style>\n",
              "    .colab-df-container {\n",
              "      display:flex;\n",
              "      gap: 12px;\n",
              "    }\n",
              "\n",
              "    .colab-df-convert {\n",
              "      background-color: #E8F0FE;\n",
              "      border: none;\n",
              "      border-radius: 50%;\n",
              "      cursor: pointer;\n",
              "      display: none;\n",
              "      fill: #1967D2;\n",
              "      height: 32px;\n",
              "      padding: 0 0 0 0;\n",
              "      width: 32px;\n",
              "    }\n",
              "\n",
              "    .colab-df-convert:hover {\n",
              "      background-color: #E2EBFA;\n",
              "      box-shadow: 0px 1px 2px rgba(60, 64, 67, 0.3), 0px 1px 3px 1px rgba(60, 64, 67, 0.15);\n",
              "      fill: #174EA6;\n",
              "    }\n",
              "\n",
              "    .colab-df-buttons div {\n",
              "      margin-bottom: 4px;\n",
              "    }\n",
              "\n",
              "    [theme=dark] .colab-df-convert {\n",
              "      background-color: #3B4455;\n",
              "      fill: #D2E3FC;\n",
              "    }\n",
              "\n",
              "    [theme=dark] .colab-df-convert:hover {\n",
              "      background-color: #434B5C;\n",
              "      box-shadow: 0px 1px 3px 1px rgba(0, 0, 0, 0.15);\n",
              "      filter: drop-shadow(0px 1px 2px rgba(0, 0, 0, 0.3));\n",
              "      fill: #FFFFFF;\n",
              "    }\n",
              "  </style>\n",
              "\n",
              "    <script>\n",
              "      const buttonEl =\n",
              "        document.querySelector('#df-42d2eb6e-4be8-4fc3-bccd-69fe715e5e1b button.colab-df-convert');\n",
              "      buttonEl.style.display =\n",
              "        google.colab.kernel.accessAllowed ? 'block' : 'none';\n",
              "\n",
              "      async function convertToInteractive(key) {\n",
              "        const element = document.querySelector('#df-42d2eb6e-4be8-4fc3-bccd-69fe715e5e1b');\n",
              "        const dataTable =\n",
              "          await google.colab.kernel.invokeFunction('convertToInteractive',\n",
              "                                                    [key], {});\n",
              "        if (!dataTable) return;\n",
              "\n",
              "        const docLinkHtml = 'Like what you see? Visit the ' +\n",
              "          '<a target=\"_blank\" href=https://colab.research.google.com/notebooks/data_table.ipynb>data table notebook</a>'\n",
              "          + ' to learn more about interactive tables.';\n",
              "        element.innerHTML = '';\n",
              "        dataTable['output_type'] = 'display_data';\n",
              "        await google.colab.output.renderOutput(dataTable, element);\n",
              "        const docLink = document.createElement('div');\n",
              "        docLink.innerHTML = docLinkHtml;\n",
              "        element.appendChild(docLink);\n",
              "      }\n",
              "    </script>\n",
              "  </div>\n",
              "\n",
              "\n",
              "<div id=\"df-99752908-5d9c-44c1-92be-a4cdebc5b4c1\">\n",
              "  <button class=\"colab-df-quickchart\" onclick=\"quickchart('df-99752908-5d9c-44c1-92be-a4cdebc5b4c1')\"\n",
              "            title=\"Suggest charts\"\n",
              "            style=\"display:none;\">\n",
              "\n",
              "<svg xmlns=\"http://www.w3.org/2000/svg\" height=\"24px\"viewBox=\"0 0 24 24\"\n",
              "     width=\"24px\">\n",
              "    <g>\n",
              "        <path d=\"M19 3H5c-1.1 0-2 .9-2 2v14c0 1.1.9 2 2 2h14c1.1 0 2-.9 2-2V5c0-1.1-.9-2-2-2zM9 17H7v-7h2v7zm4 0h-2V7h2v10zm4 0h-2v-4h2v4z\"/>\n",
              "    </g>\n",
              "</svg>\n",
              "  </button>\n",
              "\n",
              "<style>\n",
              "  .colab-df-quickchart {\n",
              "      --bg-color: #E8F0FE;\n",
              "      --fill-color: #1967D2;\n",
              "      --hover-bg-color: #E2EBFA;\n",
              "      --hover-fill-color: #174EA6;\n",
              "      --disabled-fill-color: #AAA;\n",
              "      --disabled-bg-color: #DDD;\n",
              "  }\n",
              "\n",
              "  [theme=dark] .colab-df-quickchart {\n",
              "      --bg-color: #3B4455;\n",
              "      --fill-color: #D2E3FC;\n",
              "      --hover-bg-color: #434B5C;\n",
              "      --hover-fill-color: #FFFFFF;\n",
              "      --disabled-bg-color: #3B4455;\n",
              "      --disabled-fill-color: #666;\n",
              "  }\n",
              "\n",
              "  .colab-df-quickchart {\n",
              "    background-color: var(--bg-color);\n",
              "    border: none;\n",
              "    border-radius: 50%;\n",
              "    cursor: pointer;\n",
              "    display: none;\n",
              "    fill: var(--fill-color);\n",
              "    height: 32px;\n",
              "    padding: 0;\n",
              "    width: 32px;\n",
              "  }\n",
              "\n",
              "  .colab-df-quickchart:hover {\n",
              "    background-color: var(--hover-bg-color);\n",
              "    box-shadow: 0 1px 2px rgba(60, 64, 67, 0.3), 0 1px 3px 1px rgba(60, 64, 67, 0.15);\n",
              "    fill: var(--button-hover-fill-color);\n",
              "  }\n",
              "\n",
              "  .colab-df-quickchart-complete:disabled,\n",
              "  .colab-df-quickchart-complete:disabled:hover {\n",
              "    background-color: var(--disabled-bg-color);\n",
              "    fill: var(--disabled-fill-color);\n",
              "    box-shadow: none;\n",
              "  }\n",
              "\n",
              "  .colab-df-spinner {\n",
              "    border: 2px solid var(--fill-color);\n",
              "    border-color: transparent;\n",
              "    border-bottom-color: var(--fill-color);\n",
              "    animation:\n",
              "      spin 1s steps(1) infinite;\n",
              "  }\n",
              "\n",
              "  @keyframes spin {\n",
              "    0% {\n",
              "      border-color: transparent;\n",
              "      border-bottom-color: var(--fill-color);\n",
              "      border-left-color: var(--fill-color);\n",
              "    }\n",
              "    20% {\n",
              "      border-color: transparent;\n",
              "      border-left-color: var(--fill-color);\n",
              "      border-top-color: var(--fill-color);\n",
              "    }\n",
              "    30% {\n",
              "      border-color: transparent;\n",
              "      border-left-color: var(--fill-color);\n",
              "      border-top-color: var(--fill-color);\n",
              "      border-right-color: var(--fill-color);\n",
              "    }\n",
              "    40% {\n",
              "      border-color: transparent;\n",
              "      border-right-color: var(--fill-color);\n",
              "      border-top-color: var(--fill-color);\n",
              "    }\n",
              "    60% {\n",
              "      border-color: transparent;\n",
              "      border-right-color: var(--fill-color);\n",
              "    }\n",
              "    80% {\n",
              "      border-color: transparent;\n",
              "      border-right-color: var(--fill-color);\n",
              "      border-bottom-color: var(--fill-color);\n",
              "    }\n",
              "    90% {\n",
              "      border-color: transparent;\n",
              "      border-bottom-color: var(--fill-color);\n",
              "    }\n",
              "  }\n",
              "</style>\n",
              "\n",
              "  <script>\n",
              "    async function quickchart(key) {\n",
              "      const quickchartButtonEl =\n",
              "        document.querySelector('#' + key + ' button');\n",
              "      quickchartButtonEl.disabled = true;  // To prevent multiple clicks.\n",
              "      quickchartButtonEl.classList.add('colab-df-spinner');\n",
              "      try {\n",
              "        const charts = await google.colab.kernel.invokeFunction(\n",
              "            'suggestCharts', [key], {});\n",
              "      } catch (error) {\n",
              "        console.error('Error during call to suggestCharts:', error);\n",
              "      }\n",
              "      quickchartButtonEl.classList.remove('colab-df-spinner');\n",
              "      quickchartButtonEl.classList.add('colab-df-quickchart-complete');\n",
              "    }\n",
              "    (() => {\n",
              "      let quickchartButtonEl =\n",
              "        document.querySelector('#df-99752908-5d9c-44c1-92be-a4cdebc5b4c1 button');\n",
              "      quickchartButtonEl.style.display =\n",
              "        google.colab.kernel.accessAllowed ? 'block' : 'none';\n",
              "    })();\n",
              "  </script>\n",
              "</div>\n",
              "\n",
              "    </div>\n",
              "  </div>\n"
            ],
            "application/vnd.google.colaboratory.intrinsic+json": {
              "type": "dataframe",
              "variable_name": "dataset",
              "summary": "{\n  \"name\": \"dataset\",\n  \"rows\": 9263,\n  \"fields\": [\n    {\n      \"column\": \"SKU\",\n      \"properties\": {\n        \"dtype\": \"string\",\n        \"num_unique_values\": 9263,\n        \"samples\": [\n          \"VDCHCP54MR28934\",\n          \"VDCHCP51BK64734\",\n          \"FNSF51EQCU30001\"\n        ],\n        \"semantic_type\": \"\",\n        \"description\": \"\"\n      }\n    },\n    {\n      \"column\": \"Description\",\n      \"properties\": {\n        \"dtype\": \"string\",\n        \"num_unique_values\": 8383,\n        \"samples\": [\n          \"Granada Sofa 1 seater-Cobalt\",\n          \"Tabitha Throw\",\n          \"Kamryn Metal Swing in White Color - with Stand\"\n        ],\n        \"semantic_type\": \"\",\n        \"description\": \"\"\n      }\n    },\n    {\n      \"column\": \"Ecosystem\",\n      \"properties\": {\n        \"dtype\": \"category\",\n        \"num_unique_values\": 23,\n        \"samples\": [\n          \"NOT_REQUIRED\",\n          \"DOMESTIC-REST\",\n          \"JAIPUR/JODHPUR\"\n        ],\n        \"semantic_type\": \"\",\n        \"description\": \"\"\n      }\n    },\n    {\n      \"column\": \"Default  QC CAT.\",\n      \"properties\": {\n        \"dtype\": \"category\",\n        \"num_unique_values\": 4,\n        \"samples\": [\n          \"A+\",\n          \"B\",\n          \"C\"\n        ],\n        \"semantic_type\": \"\",\n        \"description\": \"\"\n      }\n    },\n    {\n      \"column\": \"QC_CAT\",\n      \"properties\": {\n        \"dtype\": \"category\",\n        \"num_unique_values\": 4,\n        \"samples\": [\n          \"A+\",\n          \"A\",\n          \"B\"\n        ],\n        \"semantic_type\": \"\",\n        \"description\": \"\"\n      }\n    },\n    {\n      \"column\": \"Delivered\",\n      \"properties\": {\n        \"dtype\": \"number\",\n        \"std\": 67,\n        \"min\": 1,\n        \"max\": 394,\n        \"num_unique_values\": 249,\n        \"samples\": [\n          168,\n          10,\n          108\n        ],\n        \"semantic_type\": \"\",\n        \"description\": \"\"\n      }\n    },\n    {\n      \"column\": \"Doorstep Replacements\",\n      \"properties\": {\n        \"dtype\": \"number\",\n        \"std\": 3,\n        \"min\": 0,\n        \"max\": 20,\n        \"num_unique_values\": 21,\n        \"samples\": [\n          0,\n          12,\n          11\n        ],\n        \"semantic_type\": \"\",\n        \"description\": \"\"\n      }\n    },\n    {\n      \"column\": \"Doorstep Replacements %\",\n      \"properties\": {\n        \"dtype\": \"number\",\n        \"std\": 0.09179278628010488,\n        \"min\": 0.0,\n        \"max\": 2.0,\n        \"num_unique_values\": 1175,\n        \"samples\": [\n          0.0155440414507772,\n          0.00680272108843537,\n          0.555555555555556\n        ],\n        \"semantic_type\": \"\",\n        \"description\": \"\"\n      }\n    },\n    {\n      \"column\": \"Doorstep Repairs\",\n      \"properties\": {\n        \"dtype\": \"number\",\n        \"std\": 3,\n        \"min\": 0,\n        \"max\": 20,\n        \"num_unique_values\": 21,\n        \"samples\": [\n          0,\n          11,\n          12\n        ],\n        \"semantic_type\": \"\",\n        \"description\": \"\"\n      }\n    },\n    {\n      \"column\": \"Doorstep Repairs %\",\n      \"properties\": {\n        \"dtype\": \"number\",\n        \"std\": 0.09138806011320919,\n        \"min\": 0.0,\n        \"max\": 1.0,\n        \"num_unique_values\": 1166,\n        \"samples\": [\n          0.0381679389312977,\n          0.0261437908496732,\n          0.571428571428571\n        ],\n        \"semantic_type\": \"\",\n        \"description\": \"\"\n      }\n    },\n    {\n      \"column\": \"FC/DC Rejects\",\n      \"properties\": {\n        \"dtype\": \"number\",\n        \"std\": 1,\n        \"min\": 0,\n        \"max\": 80,\n        \"num_unique_values\": 25,\n        \"samples\": [\n          25,\n          80,\n          0\n        ],\n        \"semantic_type\": \"\",\n        \"description\": \"\"\n      }\n    },\n    {\n      \"column\": \"FC/DC Rejects %\",\n      \"properties\": {\n        \"dtype\": \"number\",\n        \"std\": 0.15607875966311824,\n        \"min\": 0.0,\n        \"max\": 10.0,\n        \"num_unique_values\": 264,\n        \"samples\": [\n          0.142857142857143,\n          0.048951048951049,\n          0.0202020202020202\n        ],\n        \"semantic_type\": \"\",\n        \"description\": \"\"\n      }\n    },\n    {\n      \"column\": \"Delivery Check\",\n      \"properties\": {\n        \"dtype\": \"number\",\n        \"std\": 0,\n        \"min\": 0,\n        \"max\": 1,\n        \"num_unique_values\": 2,\n        \"samples\": [\n          0,\n          1\n        ],\n        \"semantic_type\": \"\",\n        \"description\": \"\"\n      }\n    },\n    {\n      \"column\": \"Reject Check\",\n      \"properties\": {\n        \"dtype\": \"number\",\n        \"std\": 0,\n        \"min\": 0,\n        \"max\": 1,\n        \"num_unique_values\": 2,\n        \"samples\": [\n          1,\n          0\n        ],\n        \"semantic_type\": \"\",\n        \"description\": \"\"\n      }\n    },\n    {\n      \"column\": \"Movement\",\n      \"properties\": {\n        \"dtype\": \"number\",\n        \"std\": 0,\n        \"min\": -1,\n        \"max\": 1,\n        \"num_unique_values\": 3,\n        \"samples\": [\n          -1,\n          0\n        ],\n        \"semantic_type\": \"\",\n        \"description\": \"\"\n      }\n    },\n    {\n      \"column\": \"Default Move\",\n      \"properties\": {\n        \"dtype\": \"category\",\n        \"num_unique_values\": 5,\n        \"samples\": [\n          \"C\",\n          \"A\"\n        ],\n        \"semantic_type\": \"\",\n        \"description\": \"\"\n      }\n    },\n    {\n      \"column\": \"Current Move\",\n      \"properties\": {\n        \"dtype\": \"category\",\n        \"num_unique_values\": 6,\n        \"samples\": [\n          \"A\",\n          \"A+\"\n        ],\n        \"semantic_type\": \"\",\n        \"description\": \"\"\n      }\n    },\n    {\n      \"column\": \"Int. Move\",\n      \"properties\": {\n        \"dtype\": \"category\",\n        \"num_unique_values\": 5,\n        \"samples\": [\n          \"A+\",\n          \"D\"\n        ],\n        \"semantic_type\": \"\",\n        \"description\": \"\"\n      }\n    },\n    {\n      \"column\": \"Final Move\",\n      \"properties\": {\n        \"dtype\": \"category\",\n        \"num_unique_values\": 4,\n        \"samples\": [\n          \"A+\",\n          \"B\"\n        ],\n        \"semantic_type\": \"\",\n        \"description\": \"\"\n      }\n    }\n  ]\n}"
            }
          },
          "metadata": {},
          "execution_count": 5
        }
      ]
    },
    {
      "cell_type": "code",
      "source": [
        "dataset.shape"
      ],
      "metadata": {
        "id": "DbZyfdtcUN8h",
        "colab": {
          "base_uri": "https://localhost:8080/"
        },
        "outputId": "b5d3166e-6ab8-40b9-a2ec-73f1629549a4"
      },
      "execution_count": 6,
      "outputs": [
        {
          "output_type": "execute_result",
          "data": {
            "text/plain": [
              "(9263, 19)"
            ]
          },
          "metadata": {},
          "execution_count": 6
        }
      ]
    },
    {
      "cell_type": "code",
      "source": [
        "dataset.Ecosystem.unique()"
      ],
      "metadata": {
        "id": "p1zjkJxx8kLG",
        "colab": {
          "base_uri": "https://localhost:8080/"
        },
        "outputId": "410ba7af-8ba7-4efe-e3ac-5d110aaed9c9"
      },
      "execution_count": 7,
      "outputs": [
        {
          "output_type": "execute_result",
          "data": {
            "text/plain": [
              "array(['JAIPUR/JODHPUR', 'DOM-UPHOLSTERY', 'MALAYSIA', 'CHINA', 'DOM-E/W',\n",
              "       'IMPORT', 'MTO-SOFA', 'MTS-SOFA', 'VIETNAM', 'DOMESTIC-REST',\n",
              "       'MATTRESS', 'MBI-J&J', 'DECOR', 'VMI-FURNITURE', 'METAL/PLASTIC',\n",
              "       'NOT_REQUIRED', 'INSTITUTIONAL BUSINESS', 'VMI-FURNITURES',\n",
              "       'VMI-DECOR', 'UL-DECOR', 'KITCHEN', 'RAW MATERIAL', 'VMI-MATTRESS'],\n",
              "      dtype=object)"
            ]
          },
          "metadata": {},
          "execution_count": 7
        }
      ]
    },
    {
      "cell_type": "code",
      "source": [
        "dataset.dtypes"
      ],
      "metadata": {
        "id": "mtsL6DmZoTde",
        "colab": {
          "base_uri": "https://localhost:8080/"
        },
        "outputId": "d1bd4aee-9a54-49bf-ce05-aa730d2d1c65"
      },
      "execution_count": 8,
      "outputs": [
        {
          "output_type": "execute_result",
          "data": {
            "text/plain": [
              "SKU                         object\n",
              "Description                 object\n",
              "Ecosystem                   object\n",
              "Default  QC CAT.            object\n",
              "QC_CAT                      object\n",
              "Delivered                    int64\n",
              "Doorstep Replacements        int64\n",
              "Doorstep Replacements %    float64\n",
              "Doorstep Repairs             int64\n",
              "Doorstep Repairs %         float64\n",
              "FC/DC Rejects                int64\n",
              "FC/DC Rejects %            float64\n",
              "Delivery Check               int64\n",
              "Reject Check                 int64\n",
              "Movement                     int64\n",
              "Default Move                object\n",
              "Current Move                object\n",
              "Int. Move                   object\n",
              "Final Move                  object\n",
              "dtype: object"
            ]
          },
          "metadata": {},
          "execution_count": 8
        }
      ]
    },
    {
      "cell_type": "code",
      "source": [
        "dataset.describe(include=\"all\")"
      ],
      "metadata": {
        "id": "mhXngR0QhUfb",
        "colab": {
          "base_uri": "https://localhost:8080/",
          "height": 518
        },
        "outputId": "a97f63b1-1286-4106-c999-d026aee4043b"
      },
      "execution_count": 9,
      "outputs": [
        {
          "output_type": "execute_result",
          "data": {
            "text/plain": [
              "                    SKU                                        Description  \\\n",
              "count              9263                                               9263   \n",
              "unique             9263                                               8383   \n",
              "top     ACBNRC51BE10003  Apollo Sofa (Sofa Size: Compact, Material: Lea...   \n",
              "freq                  1                                                 22   \n",
              "mean                NaN                                                NaN   \n",
              "std                 NaN                                                NaN   \n",
              "min                 NaN                                                NaN   \n",
              "25%                 NaN                                                NaN   \n",
              "50%                 NaN                                                NaN   \n",
              "75%                 NaN                                                NaN   \n",
              "max                 NaN                                                NaN   \n",
              "\n",
              "       Ecosystem Default  QC CAT. QC_CAT    Delivered  Doorstep Replacements  \\\n",
              "count       9263             9263   9174  9263.000000            9263.000000   \n",
              "unique        23                4      4          NaN                    NaN   \n",
              "top     MTO-SOFA               A+     A+          NaN                    NaN   \n",
              "freq        3824             7673   8337          NaN                    NaN   \n",
              "mean         NaN              NaN    NaN    61.765303               2.884703   \n",
              "std          NaN              NaN    NaN    67.399206               3.580352   \n",
              "min          NaN              NaN    NaN     1.000000               0.000000   \n",
              "25%          NaN              NaN    NaN     2.000000               0.000000   \n",
              "50%          NaN              NaN    NaN    33.000000               1.000000   \n",
              "75%          NaN              NaN    NaN   117.000000               6.000000   \n",
              "max          NaN              NaN    NaN   394.000000              20.000000   \n",
              "\n",
              "        Doorstep Replacements %  Doorstep Repairs  Doorstep Repairs %  \\\n",
              "count               9263.000000       9263.000000         9263.000000   \n",
              "unique                      NaN               NaN                 NaN   \n",
              "top                         NaN               NaN                 NaN   \n",
              "freq                        NaN               NaN                 NaN   \n",
              "mean                   0.045043          2.829105            0.044243   \n",
              "std                    0.091793          3.544584            0.091388   \n",
              "min                    0.000000          0.000000            0.000000   \n",
              "25%                    0.000000          0.000000            0.000000   \n",
              "50%                    0.007634          1.000000            0.005319   \n",
              "75%                    0.054945          6.000000            0.053191   \n",
              "max                    2.000000         20.000000            1.000000   \n",
              "\n",
              "        FC/DC Rejects  FC/DC Rejects %  Delivery Check  Reject Check  \\\n",
              "count     9263.000000      9263.000000      9263.00000   9263.000000   \n",
              "unique            NaN              NaN             NaN           NaN   \n",
              "top               NaN              NaN             NaN           NaN   \n",
              "freq              NaN              NaN             NaN           NaN   \n",
              "mean         0.156321         0.007612         0.59322      0.548850   \n",
              "std          1.463942         0.156079         0.49126      0.497635   \n",
              "min          0.000000         0.000000         0.00000      0.000000   \n",
              "25%          0.000000         0.000000         0.00000      0.000000   \n",
              "50%          0.000000         0.000000         1.00000      1.000000   \n",
              "75%          0.000000         0.000000         1.00000      1.000000   \n",
              "max         80.000000        10.000000         1.00000      1.000000   \n",
              "\n",
              "           Movement Default Move Current Move Int. Move Final Move  \n",
              "count   9263.000000         9263         9195      9263       9263  \n",
              "unique          NaN            5            6         5          4  \n",
              "top             NaN           A+            A         A          A  \n",
              "freq            NaN         3970         4370      4431       4431  \n",
              "mean       0.493685          NaN          NaN       NaN        NaN  \n",
              "std        0.591214          NaN          NaN       NaN        NaN  \n",
              "min       -1.000000          NaN          NaN       NaN        NaN  \n",
              "25%        0.000000          NaN          NaN       NaN        NaN  \n",
              "50%        1.000000          NaN          NaN       NaN        NaN  \n",
              "75%        1.000000          NaN          NaN       NaN        NaN  \n",
              "max        1.000000          NaN          NaN       NaN        NaN  "
            ],
            "text/html": [
              "\n",
              "  <div id=\"df-3a6bfc8f-45ab-4e87-8711-8ee829d30410\" class=\"colab-df-container\">\n",
              "    <div>\n",
              "<style scoped>\n",
              "    .dataframe tbody tr th:only-of-type {\n",
              "        vertical-align: middle;\n",
              "    }\n",
              "\n",
              "    .dataframe tbody tr th {\n",
              "        vertical-align: top;\n",
              "    }\n",
              "\n",
              "    .dataframe thead th {\n",
              "        text-align: right;\n",
              "    }\n",
              "</style>\n",
              "<table border=\"1\" class=\"dataframe\">\n",
              "  <thead>\n",
              "    <tr style=\"text-align: right;\">\n",
              "      <th></th>\n",
              "      <th>SKU</th>\n",
              "      <th>Description</th>\n",
              "      <th>Ecosystem</th>\n",
              "      <th>Default  QC CAT.</th>\n",
              "      <th>QC_CAT</th>\n",
              "      <th>Delivered</th>\n",
              "      <th>Doorstep Replacements</th>\n",
              "      <th>Doorstep Replacements %</th>\n",
              "      <th>Doorstep Repairs</th>\n",
              "      <th>Doorstep Repairs %</th>\n",
              "      <th>FC/DC Rejects</th>\n",
              "      <th>FC/DC Rejects %</th>\n",
              "      <th>Delivery Check</th>\n",
              "      <th>Reject Check</th>\n",
              "      <th>Movement</th>\n",
              "      <th>Default Move</th>\n",
              "      <th>Current Move</th>\n",
              "      <th>Int. Move</th>\n",
              "      <th>Final Move</th>\n",
              "    </tr>\n",
              "  </thead>\n",
              "  <tbody>\n",
              "    <tr>\n",
              "      <th>count</th>\n",
              "      <td>9263</td>\n",
              "      <td>9263</td>\n",
              "      <td>9263</td>\n",
              "      <td>9263</td>\n",
              "      <td>9174</td>\n",
              "      <td>9263.000000</td>\n",
              "      <td>9263.000000</td>\n",
              "      <td>9263.000000</td>\n",
              "      <td>9263.000000</td>\n",
              "      <td>9263.000000</td>\n",
              "      <td>9263.000000</td>\n",
              "      <td>9263.000000</td>\n",
              "      <td>9263.00000</td>\n",
              "      <td>9263.000000</td>\n",
              "      <td>9263.000000</td>\n",
              "      <td>9263</td>\n",
              "      <td>9195</td>\n",
              "      <td>9263</td>\n",
              "      <td>9263</td>\n",
              "    </tr>\n",
              "    <tr>\n",
              "      <th>unique</th>\n",
              "      <td>9263</td>\n",
              "      <td>8383</td>\n",
              "      <td>23</td>\n",
              "      <td>4</td>\n",
              "      <td>4</td>\n",
              "      <td>NaN</td>\n",
              "      <td>NaN</td>\n",
              "      <td>NaN</td>\n",
              "      <td>NaN</td>\n",
              "      <td>NaN</td>\n",
              "      <td>NaN</td>\n",
              "      <td>NaN</td>\n",
              "      <td>NaN</td>\n",
              "      <td>NaN</td>\n",
              "      <td>NaN</td>\n",
              "      <td>5</td>\n",
              "      <td>6</td>\n",
              "      <td>5</td>\n",
              "      <td>4</td>\n",
              "    </tr>\n",
              "    <tr>\n",
              "      <th>top</th>\n",
              "      <td>ACBNRC51BE10003</td>\n",
              "      <td>Apollo Sofa (Sofa Size: Compact, Material: Lea...</td>\n",
              "      <td>MTO-SOFA</td>\n",
              "      <td>A+</td>\n",
              "      <td>A+</td>\n",
              "      <td>NaN</td>\n",
              "      <td>NaN</td>\n",
              "      <td>NaN</td>\n",
              "      <td>NaN</td>\n",
              "      <td>NaN</td>\n",
              "      <td>NaN</td>\n",
              "      <td>NaN</td>\n",
              "      <td>NaN</td>\n",
              "      <td>NaN</td>\n",
              "      <td>NaN</td>\n",
              "      <td>A+</td>\n",
              "      <td>A</td>\n",
              "      <td>A</td>\n",
              "      <td>A</td>\n",
              "    </tr>\n",
              "    <tr>\n",
              "      <th>freq</th>\n",
              "      <td>1</td>\n",
              "      <td>22</td>\n",
              "      <td>3824</td>\n",
              "      <td>7673</td>\n",
              "      <td>8337</td>\n",
              "      <td>NaN</td>\n",
              "      <td>NaN</td>\n",
              "      <td>NaN</td>\n",
              "      <td>NaN</td>\n",
              "      <td>NaN</td>\n",
              "      <td>NaN</td>\n",
              "      <td>NaN</td>\n",
              "      <td>NaN</td>\n",
              "      <td>NaN</td>\n",
              "      <td>NaN</td>\n",
              "      <td>3970</td>\n",
              "      <td>4370</td>\n",
              "      <td>4431</td>\n",
              "      <td>4431</td>\n",
              "    </tr>\n",
              "    <tr>\n",
              "      <th>mean</th>\n",
              "      <td>NaN</td>\n",
              "      <td>NaN</td>\n",
              "      <td>NaN</td>\n",
              "      <td>NaN</td>\n",
              "      <td>NaN</td>\n",
              "      <td>61.765303</td>\n",
              "      <td>2.884703</td>\n",
              "      <td>0.045043</td>\n",
              "      <td>2.829105</td>\n",
              "      <td>0.044243</td>\n",
              "      <td>0.156321</td>\n",
              "      <td>0.007612</td>\n",
              "      <td>0.59322</td>\n",
              "      <td>0.548850</td>\n",
              "      <td>0.493685</td>\n",
              "      <td>NaN</td>\n",
              "      <td>NaN</td>\n",
              "      <td>NaN</td>\n",
              "      <td>NaN</td>\n",
              "    </tr>\n",
              "    <tr>\n",
              "      <th>std</th>\n",
              "      <td>NaN</td>\n",
              "      <td>NaN</td>\n",
              "      <td>NaN</td>\n",
              "      <td>NaN</td>\n",
              "      <td>NaN</td>\n",
              "      <td>67.399206</td>\n",
              "      <td>3.580352</td>\n",
              "      <td>0.091793</td>\n",
              "      <td>3.544584</td>\n",
              "      <td>0.091388</td>\n",
              "      <td>1.463942</td>\n",
              "      <td>0.156079</td>\n",
              "      <td>0.49126</td>\n",
              "      <td>0.497635</td>\n",
              "      <td>0.591214</td>\n",
              "      <td>NaN</td>\n",
              "      <td>NaN</td>\n",
              "      <td>NaN</td>\n",
              "      <td>NaN</td>\n",
              "    </tr>\n",
              "    <tr>\n",
              "      <th>min</th>\n",
              "      <td>NaN</td>\n",
              "      <td>NaN</td>\n",
              "      <td>NaN</td>\n",
              "      <td>NaN</td>\n",
              "      <td>NaN</td>\n",
              "      <td>1.000000</td>\n",
              "      <td>0.000000</td>\n",
              "      <td>0.000000</td>\n",
              "      <td>0.000000</td>\n",
              "      <td>0.000000</td>\n",
              "      <td>0.000000</td>\n",
              "      <td>0.000000</td>\n",
              "      <td>0.00000</td>\n",
              "      <td>0.000000</td>\n",
              "      <td>-1.000000</td>\n",
              "      <td>NaN</td>\n",
              "      <td>NaN</td>\n",
              "      <td>NaN</td>\n",
              "      <td>NaN</td>\n",
              "    </tr>\n",
              "    <tr>\n",
              "      <th>25%</th>\n",
              "      <td>NaN</td>\n",
              "      <td>NaN</td>\n",
              "      <td>NaN</td>\n",
              "      <td>NaN</td>\n",
              "      <td>NaN</td>\n",
              "      <td>2.000000</td>\n",
              "      <td>0.000000</td>\n",
              "      <td>0.000000</td>\n",
              "      <td>0.000000</td>\n",
              "      <td>0.000000</td>\n",
              "      <td>0.000000</td>\n",
              "      <td>0.000000</td>\n",
              "      <td>0.00000</td>\n",
              "      <td>0.000000</td>\n",
              "      <td>0.000000</td>\n",
              "      <td>NaN</td>\n",
              "      <td>NaN</td>\n",
              "      <td>NaN</td>\n",
              "      <td>NaN</td>\n",
              "    </tr>\n",
              "    <tr>\n",
              "      <th>50%</th>\n",
              "      <td>NaN</td>\n",
              "      <td>NaN</td>\n",
              "      <td>NaN</td>\n",
              "      <td>NaN</td>\n",
              "      <td>NaN</td>\n",
              "      <td>33.000000</td>\n",
              "      <td>1.000000</td>\n",
              "      <td>0.007634</td>\n",
              "      <td>1.000000</td>\n",
              "      <td>0.005319</td>\n",
              "      <td>0.000000</td>\n",
              "      <td>0.000000</td>\n",
              "      <td>1.00000</td>\n",
              "      <td>1.000000</td>\n",
              "      <td>1.000000</td>\n",
              "      <td>NaN</td>\n",
              "      <td>NaN</td>\n",
              "      <td>NaN</td>\n",
              "      <td>NaN</td>\n",
              "    </tr>\n",
              "    <tr>\n",
              "      <th>75%</th>\n",
              "      <td>NaN</td>\n",
              "      <td>NaN</td>\n",
              "      <td>NaN</td>\n",
              "      <td>NaN</td>\n",
              "      <td>NaN</td>\n",
              "      <td>117.000000</td>\n",
              "      <td>6.000000</td>\n",
              "      <td>0.054945</td>\n",
              "      <td>6.000000</td>\n",
              "      <td>0.053191</td>\n",
              "      <td>0.000000</td>\n",
              "      <td>0.000000</td>\n",
              "      <td>1.00000</td>\n",
              "      <td>1.000000</td>\n",
              "      <td>1.000000</td>\n",
              "      <td>NaN</td>\n",
              "      <td>NaN</td>\n",
              "      <td>NaN</td>\n",
              "      <td>NaN</td>\n",
              "    </tr>\n",
              "    <tr>\n",
              "      <th>max</th>\n",
              "      <td>NaN</td>\n",
              "      <td>NaN</td>\n",
              "      <td>NaN</td>\n",
              "      <td>NaN</td>\n",
              "      <td>NaN</td>\n",
              "      <td>394.000000</td>\n",
              "      <td>20.000000</td>\n",
              "      <td>2.000000</td>\n",
              "      <td>20.000000</td>\n",
              "      <td>1.000000</td>\n",
              "      <td>80.000000</td>\n",
              "      <td>10.000000</td>\n",
              "      <td>1.00000</td>\n",
              "      <td>1.000000</td>\n",
              "      <td>1.000000</td>\n",
              "      <td>NaN</td>\n",
              "      <td>NaN</td>\n",
              "      <td>NaN</td>\n",
              "      <td>NaN</td>\n",
              "    </tr>\n",
              "  </tbody>\n",
              "</table>\n",
              "</div>\n",
              "    <div class=\"colab-df-buttons\">\n",
              "\n",
              "  <div class=\"colab-df-container\">\n",
              "    <button class=\"colab-df-convert\" onclick=\"convertToInteractive('df-3a6bfc8f-45ab-4e87-8711-8ee829d30410')\"\n",
              "            title=\"Convert this dataframe to an interactive table.\"\n",
              "            style=\"display:none;\">\n",
              "\n",
              "  <svg xmlns=\"http://www.w3.org/2000/svg\" height=\"24px\" viewBox=\"0 -960 960 960\">\n",
              "    <path d=\"M120-120v-720h720v720H120Zm60-500h600v-160H180v160Zm220 220h160v-160H400v160Zm0 220h160v-160H400v160ZM180-400h160v-160H180v160Zm440 0h160v-160H620v160ZM180-180h160v-160H180v160Zm440 0h160v-160H620v160Z\"/>\n",
              "  </svg>\n",
              "    </button>\n",
              "\n",
              "  <style>\n",
              "    .colab-df-container {\n",
              "      display:flex;\n",
              "      gap: 12px;\n",
              "    }\n",
              "\n",
              "    .colab-df-convert {\n",
              "      background-color: #E8F0FE;\n",
              "      border: none;\n",
              "      border-radius: 50%;\n",
              "      cursor: pointer;\n",
              "      display: none;\n",
              "      fill: #1967D2;\n",
              "      height: 32px;\n",
              "      padding: 0 0 0 0;\n",
              "      width: 32px;\n",
              "    }\n",
              "\n",
              "    .colab-df-convert:hover {\n",
              "      background-color: #E2EBFA;\n",
              "      box-shadow: 0px 1px 2px rgba(60, 64, 67, 0.3), 0px 1px 3px 1px rgba(60, 64, 67, 0.15);\n",
              "      fill: #174EA6;\n",
              "    }\n",
              "\n",
              "    .colab-df-buttons div {\n",
              "      margin-bottom: 4px;\n",
              "    }\n",
              "\n",
              "    [theme=dark] .colab-df-convert {\n",
              "      background-color: #3B4455;\n",
              "      fill: #D2E3FC;\n",
              "    }\n",
              "\n",
              "    [theme=dark] .colab-df-convert:hover {\n",
              "      background-color: #434B5C;\n",
              "      box-shadow: 0px 1px 3px 1px rgba(0, 0, 0, 0.15);\n",
              "      filter: drop-shadow(0px 1px 2px rgba(0, 0, 0, 0.3));\n",
              "      fill: #FFFFFF;\n",
              "    }\n",
              "  </style>\n",
              "\n",
              "    <script>\n",
              "      const buttonEl =\n",
              "        document.querySelector('#df-3a6bfc8f-45ab-4e87-8711-8ee829d30410 button.colab-df-convert');\n",
              "      buttonEl.style.display =\n",
              "        google.colab.kernel.accessAllowed ? 'block' : 'none';\n",
              "\n",
              "      async function convertToInteractive(key) {\n",
              "        const element = document.querySelector('#df-3a6bfc8f-45ab-4e87-8711-8ee829d30410');\n",
              "        const dataTable =\n",
              "          await google.colab.kernel.invokeFunction('convertToInteractive',\n",
              "                                                    [key], {});\n",
              "        if (!dataTable) return;\n",
              "\n",
              "        const docLinkHtml = 'Like what you see? Visit the ' +\n",
              "          '<a target=\"_blank\" href=https://colab.research.google.com/notebooks/data_table.ipynb>data table notebook</a>'\n",
              "          + ' to learn more about interactive tables.';\n",
              "        element.innerHTML = '';\n",
              "        dataTable['output_type'] = 'display_data';\n",
              "        await google.colab.output.renderOutput(dataTable, element);\n",
              "        const docLink = document.createElement('div');\n",
              "        docLink.innerHTML = docLinkHtml;\n",
              "        element.appendChild(docLink);\n",
              "      }\n",
              "    </script>\n",
              "  </div>\n",
              "\n",
              "\n",
              "<div id=\"df-0235d5fb-4b54-4265-acc7-fbdf7b4a8933\">\n",
              "  <button class=\"colab-df-quickchart\" onclick=\"quickchart('df-0235d5fb-4b54-4265-acc7-fbdf7b4a8933')\"\n",
              "            title=\"Suggest charts\"\n",
              "            style=\"display:none;\">\n",
              "\n",
              "<svg xmlns=\"http://www.w3.org/2000/svg\" height=\"24px\"viewBox=\"0 0 24 24\"\n",
              "     width=\"24px\">\n",
              "    <g>\n",
              "        <path d=\"M19 3H5c-1.1 0-2 .9-2 2v14c0 1.1.9 2 2 2h14c1.1 0 2-.9 2-2V5c0-1.1-.9-2-2-2zM9 17H7v-7h2v7zm4 0h-2V7h2v10zm4 0h-2v-4h2v4z\"/>\n",
              "    </g>\n",
              "</svg>\n",
              "  </button>\n",
              "\n",
              "<style>\n",
              "  .colab-df-quickchart {\n",
              "      --bg-color: #E8F0FE;\n",
              "      --fill-color: #1967D2;\n",
              "      --hover-bg-color: #E2EBFA;\n",
              "      --hover-fill-color: #174EA6;\n",
              "      --disabled-fill-color: #AAA;\n",
              "      --disabled-bg-color: #DDD;\n",
              "  }\n",
              "\n",
              "  [theme=dark] .colab-df-quickchart {\n",
              "      --bg-color: #3B4455;\n",
              "      --fill-color: #D2E3FC;\n",
              "      --hover-bg-color: #434B5C;\n",
              "      --hover-fill-color: #FFFFFF;\n",
              "      --disabled-bg-color: #3B4455;\n",
              "      --disabled-fill-color: #666;\n",
              "  }\n",
              "\n",
              "  .colab-df-quickchart {\n",
              "    background-color: var(--bg-color);\n",
              "    border: none;\n",
              "    border-radius: 50%;\n",
              "    cursor: pointer;\n",
              "    display: none;\n",
              "    fill: var(--fill-color);\n",
              "    height: 32px;\n",
              "    padding: 0;\n",
              "    width: 32px;\n",
              "  }\n",
              "\n",
              "  .colab-df-quickchart:hover {\n",
              "    background-color: var(--hover-bg-color);\n",
              "    box-shadow: 0 1px 2px rgba(60, 64, 67, 0.3), 0 1px 3px 1px rgba(60, 64, 67, 0.15);\n",
              "    fill: var(--button-hover-fill-color);\n",
              "  }\n",
              "\n",
              "  .colab-df-quickchart-complete:disabled,\n",
              "  .colab-df-quickchart-complete:disabled:hover {\n",
              "    background-color: var(--disabled-bg-color);\n",
              "    fill: var(--disabled-fill-color);\n",
              "    box-shadow: none;\n",
              "  }\n",
              "\n",
              "  .colab-df-spinner {\n",
              "    border: 2px solid var(--fill-color);\n",
              "    border-color: transparent;\n",
              "    border-bottom-color: var(--fill-color);\n",
              "    animation:\n",
              "      spin 1s steps(1) infinite;\n",
              "  }\n",
              "\n",
              "  @keyframes spin {\n",
              "    0% {\n",
              "      border-color: transparent;\n",
              "      border-bottom-color: var(--fill-color);\n",
              "      border-left-color: var(--fill-color);\n",
              "    }\n",
              "    20% {\n",
              "      border-color: transparent;\n",
              "      border-left-color: var(--fill-color);\n",
              "      border-top-color: var(--fill-color);\n",
              "    }\n",
              "    30% {\n",
              "      border-color: transparent;\n",
              "      border-left-color: var(--fill-color);\n",
              "      border-top-color: var(--fill-color);\n",
              "      border-right-color: var(--fill-color);\n",
              "    }\n",
              "    40% {\n",
              "      border-color: transparent;\n",
              "      border-right-color: var(--fill-color);\n",
              "      border-top-color: var(--fill-color);\n",
              "    }\n",
              "    60% {\n",
              "      border-color: transparent;\n",
              "      border-right-color: var(--fill-color);\n",
              "    }\n",
              "    80% {\n",
              "      border-color: transparent;\n",
              "      border-right-color: var(--fill-color);\n",
              "      border-bottom-color: var(--fill-color);\n",
              "    }\n",
              "    90% {\n",
              "      border-color: transparent;\n",
              "      border-bottom-color: var(--fill-color);\n",
              "    }\n",
              "  }\n",
              "</style>\n",
              "\n",
              "  <script>\n",
              "    async function quickchart(key) {\n",
              "      const quickchartButtonEl =\n",
              "        document.querySelector('#' + key + ' button');\n",
              "      quickchartButtonEl.disabled = true;  // To prevent multiple clicks.\n",
              "      quickchartButtonEl.classList.add('colab-df-spinner');\n",
              "      try {\n",
              "        const charts = await google.colab.kernel.invokeFunction(\n",
              "            'suggestCharts', [key], {});\n",
              "      } catch (error) {\n",
              "        console.error('Error during call to suggestCharts:', error);\n",
              "      }\n",
              "      quickchartButtonEl.classList.remove('colab-df-spinner');\n",
              "      quickchartButtonEl.classList.add('colab-df-quickchart-complete');\n",
              "    }\n",
              "    (() => {\n",
              "      let quickchartButtonEl =\n",
              "        document.querySelector('#df-0235d5fb-4b54-4265-acc7-fbdf7b4a8933 button');\n",
              "      quickchartButtonEl.style.display =\n",
              "        google.colab.kernel.accessAllowed ? 'block' : 'none';\n",
              "    })();\n",
              "  </script>\n",
              "</div>\n",
              "\n",
              "    </div>\n",
              "  </div>\n"
            ],
            "application/vnd.google.colaboratory.intrinsic+json": {
              "type": "dataframe",
              "summary": "{\n  \"name\": \"dataset\",\n  \"rows\": 11,\n  \"fields\": [\n    {\n      \"column\": \"SKU\",\n      \"properties\": {\n        \"dtype\": \"category\",\n        \"num_unique_values\": 3,\n        \"samples\": [\n          \"9263\",\n          \"ACBNRC51BE10003\",\n          \"1\"\n        ],\n        \"semantic_type\": \"\",\n        \"description\": \"\"\n      }\n    },\n    {\n      \"column\": \"Description\",\n      \"properties\": {\n        \"dtype\": \"category\",\n        \"num_unique_values\": 4,\n        \"samples\": [\n          8383,\n          \"22\",\n          \"9263\"\n        ],\n        \"semantic_type\": \"\",\n        \"description\": \"\"\n      }\n    },\n    {\n      \"column\": \"Ecosystem\",\n      \"properties\": {\n        \"dtype\": \"category\",\n        \"num_unique_values\": 4,\n        \"samples\": [\n          23,\n          \"3824\",\n          \"9263\"\n        ],\n        \"semantic_type\": \"\",\n        \"description\": \"\"\n      }\n    },\n    {\n      \"column\": \"Default  QC CAT.\",\n      \"properties\": {\n        \"dtype\": \"category\",\n        \"num_unique_values\": 4,\n        \"samples\": [\n          4,\n          \"7673\",\n          \"9263\"\n        ],\n        \"semantic_type\": \"\",\n        \"description\": \"\"\n      }\n    },\n    {\n      \"column\": \"QC_CAT\",\n      \"properties\": {\n        \"dtype\": \"category\",\n        \"num_unique_values\": 4,\n        \"samples\": [\n          4,\n          \"8337\",\n          \"9174\"\n        ],\n        \"semantic_type\": \"\",\n        \"description\": \"\"\n      }\n    },\n    {\n      \"column\": \"Delivered\",\n      \"properties\": {\n        \"dtype\": \"number\",\n        \"std\": 3243.3045695048886,\n        \"min\": 1.0,\n        \"max\": 9263.0,\n        \"num_unique_values\": 8,\n        \"samples\": [\n          61.76530281766166,\n          33.0,\n          9263.0\n        ],\n        \"semantic_type\": \"\",\n        \"description\": \"\"\n      }\n    },\n    {\n      \"column\": \"Doorstep Replacements\",\n      \"properties\": {\n        \"dtype\": \"number\",\n        \"std\": 3273.281322766628,\n        \"min\": 0.0,\n        \"max\": 9263.0,\n        \"num_unique_values\": 7,\n        \"samples\": [\n          9263.0,\n          2.8847025801576165,\n          6.0\n        ],\n        \"semantic_type\": \"\",\n        \"description\": \"\"\n      }\n    },\n    {\n      \"column\": \"Doorstep Replacements %\",\n      \"properties\": {\n        \"dtype\": \"number\",\n        \"std\": 3274.8540423313557,\n        \"min\": 0.0,\n        \"max\": 9263.0,\n        \"num_unique_values\": 7,\n        \"samples\": [\n          9263.0,\n          0.045042944699064016,\n          0.0549450549450549\n        ],\n        \"semantic_type\": \"\",\n        \"description\": \"\"\n      }\n    },\n    {\n      \"column\": \"Doorstep Repairs\",\n      \"properties\": {\n        \"dtype\": \"number\",\n        \"std\": 3273.285943971014,\n        \"min\": 0.0,\n        \"max\": 9263.0,\n        \"num_unique_values\": 7,\n        \"samples\": [\n          9263.0,\n          2.8291050415632086,\n          6.0\n        ],\n        \"semantic_type\": \"\",\n        \"description\": \"\"\n      }\n    },\n    {\n      \"column\": \"Doorstep Repairs %\",\n      \"properties\": {\n        \"dtype\": \"number\",\n        \"std\": 3274.9047614757546,\n        \"min\": 0.0,\n        \"max\": 9263.0,\n        \"num_unique_values\": 7,\n        \"samples\": [\n          9263.0,\n          0.04424262261276819,\n          0.0531914893617021\n        ],\n        \"semantic_type\": \"\",\n        \"description\": \"\"\n      }\n    },\n    {\n      \"column\": \"FC/DC Rejects\",\n      \"properties\": {\n        \"dtype\": \"number\",\n        \"std\": 3270.9616363292976,\n        \"min\": 0.0,\n        \"max\": 9263.0,\n        \"num_unique_values\": 5,\n        \"samples\": [\n          0.15632084637806326,\n          80.0,\n          1.4639424698408514\n        ],\n        \"semantic_type\": \"\",\n        \"description\": \"\"\n      }\n    },\n    {\n      \"column\": \"FC/DC Rejects %\",\n      \"properties\": {\n        \"dtype\": \"number\",\n        \"std\": 3274.4535731496376,\n        \"min\": 0.0,\n        \"max\": 9263.0,\n        \"num_unique_values\": 5,\n        \"samples\": [\n          0.007612422128136006,\n          10.0,\n          0.15607875966311824\n        ],\n        \"semantic_type\": \"\",\n        \"description\": \"\"\n      }\n    },\n    {\n      \"column\": \"Delivery Check\",\n      \"properties\": {\n        \"dtype\": \"number\",\n        \"std\": 3274.758786065463,\n        \"min\": 0.0,\n        \"max\": 9263.0,\n        \"num_unique_values\": 5,\n        \"samples\": [\n          0.5932203389830508,\n          1.0,\n          0.4912596280629602\n        ],\n        \"semantic_type\": \"\",\n        \"description\": \"\"\n      }\n    },\n    {\n      \"column\": \"Reject Check\",\n      \"properties\": {\n        \"dtype\": \"number\",\n        \"std\": 3274.7607050930933,\n        \"min\": 0.0,\n        \"max\": 9263.0,\n        \"num_unique_values\": 5,\n        \"samples\": [\n          0.5488502644931448,\n          1.0,\n          0.4976347918101769\n        ],\n        \"semantic_type\": \"\",\n        \"description\": \"\"\n      }\n    },\n    {\n      \"column\": \"Movement\",\n      \"properties\": {\n        \"dtype\": \"number\",\n        \"std\": 3274.809316707542,\n        \"min\": -1.0,\n        \"max\": 9263.0,\n        \"num_unique_values\": 6,\n        \"samples\": [\n          9263.0,\n          0.49368455144121776,\n          1.0\n        ],\n        \"semantic_type\": \"\",\n        \"description\": \"\"\n      }\n    },\n    {\n      \"column\": \"Default Move\",\n      \"properties\": {\n        \"dtype\": \"category\",\n        \"num_unique_values\": 4,\n        \"samples\": [\n          5,\n          \"3970\",\n          \"9263\"\n        ],\n        \"semantic_type\": \"\",\n        \"description\": \"\"\n      }\n    },\n    {\n      \"column\": \"Current Move\",\n      \"properties\": {\n        \"dtype\": \"category\",\n        \"num_unique_values\": 4,\n        \"samples\": [\n          6,\n          \"4370\",\n          \"9195\"\n        ],\n        \"semantic_type\": \"\",\n        \"description\": \"\"\n      }\n    },\n    {\n      \"column\": \"Int. Move\",\n      \"properties\": {\n        \"dtype\": \"category\",\n        \"num_unique_values\": 4,\n        \"samples\": [\n          5,\n          \"4431\",\n          \"9263\"\n        ],\n        \"semantic_type\": \"\",\n        \"description\": \"\"\n      }\n    },\n    {\n      \"column\": \"Final Move\",\n      \"properties\": {\n        \"dtype\": \"category\",\n        \"num_unique_values\": 4,\n        \"samples\": [\n          4,\n          \"4431\",\n          \"9263\"\n        ],\n        \"semantic_type\": \"\",\n        \"description\": \"\"\n      }\n    }\n  ]\n}"
            }
          },
          "metadata": {},
          "execution_count": 9
        }
      ]
    },
    {
      "cell_type": "code",
      "source": [
        "dataset.info()"
      ],
      "metadata": {
        "id": "ed8AYPk8hxrx",
        "colab": {
          "base_uri": "https://localhost:8080/"
        },
        "outputId": "380c7d8e-aed3-47ba-d68b-b7d617686c9f"
      },
      "execution_count": 10,
      "outputs": [
        {
          "output_type": "stream",
          "name": "stdout",
          "text": [
            "<class 'pandas.core.frame.DataFrame'>\n",
            "RangeIndex: 9263 entries, 0 to 9262\n",
            "Data columns (total 19 columns):\n",
            " #   Column                   Non-Null Count  Dtype  \n",
            "---  ------                   --------------  -----  \n",
            " 0   SKU                      9263 non-null   object \n",
            " 1   Description              9263 non-null   object \n",
            " 2   Ecosystem                9263 non-null   object \n",
            " 3   Default  QC CAT.         9263 non-null   object \n",
            " 4   QC_CAT                   9174 non-null   object \n",
            " 5   Delivered                9263 non-null   int64  \n",
            " 6   Doorstep Replacements    9263 non-null   int64  \n",
            " 7   Doorstep Replacements %  9263 non-null   float64\n",
            " 8   Doorstep Repairs         9263 non-null   int64  \n",
            " 9   Doorstep Repairs %       9263 non-null   float64\n",
            " 10  FC/DC Rejects            9263 non-null   int64  \n",
            " 11  FC/DC Rejects %          9263 non-null   float64\n",
            " 12  Delivery Check           9263 non-null   int64  \n",
            " 13  Reject Check             9263 non-null   int64  \n",
            " 14  Movement                 9263 non-null   int64  \n",
            " 15  Default Move             9263 non-null   object \n",
            " 16  Current Move             9195 non-null   object \n",
            " 17  Int. Move                9263 non-null   object \n",
            " 18  Final Move               9263 non-null   object \n",
            "dtypes: float64(3), int64(7), object(9)\n",
            "memory usage: 1.3+ MB\n"
          ]
        }
      ]
    },
    {
      "cell_type": "code",
      "source": [
        "dataset.groupby('Ecosystem')['Doorstep Repairs'].sum().sort_values(ascending=False)"
      ],
      "metadata": {
        "id": "jWePT6XJ6-pl",
        "colab": {
          "base_uri": "https://localhost:8080/"
        },
        "outputId": "0e782fd7-5211-450a-ca81-caaa43ec589b"
      },
      "execution_count": 11,
      "outputs": [
        {
          "output_type": "execute_result",
          "data": {
            "text/plain": [
              "Ecosystem\n",
              "MTO-SOFA                  17230\n",
              "IMPORT                     3819\n",
              "JAIPUR/JODHPUR             2245\n",
              "CHINA                       668\n",
              "MATTRESS                    523\n",
              "MALAYSIA                    504\n",
              "MTS-SOFA                    334\n",
              "DOM-UPHOLSTERY              320\n",
              "DOM-E/W                     261\n",
              "MBI-J&J                     214\n",
              "DOMESTIC-REST                49\n",
              "VIETNAM                      39\n",
              "KITCHEN                       0\n",
              "DECOR                         0\n",
              "METAL/PLASTIC                 0\n",
              "INSTITUTIONAL BUSINESS        0\n",
              "NOT_REQUIRED                  0\n",
              "RAW MATERIAL                  0\n",
              "UL-DECOR                      0\n",
              "VMI-DECOR                     0\n",
              "VMI-FURNITURE                 0\n",
              "VMI-FURNITURES                0\n",
              "VMI-MATTRESS                  0\n",
              "Name: Doorstep Repairs, dtype: int64"
            ]
          },
          "metadata": {},
          "execution_count": 11
        }
      ]
    },
    {
      "cell_type": "code",
      "source": [
        "dataset.groupby('Ecosystem')['Doorstep Repairs'].sum().plot(kind='pie',autopct='%.2f')"
      ],
      "metadata": {
        "colab": {
          "base_uri": "https://localhost:8080/",
          "height": 423
        },
        "id": "NpugIs94P7iM",
        "outputId": "2b784402-22d5-40b4-e77c-40b20a3c4435"
      },
      "execution_count": 17,
      "outputs": [
        {
          "output_type": "execute_result",
          "data": {
            "text/plain": [
              "<Axes: ylabel='Doorstep Repairs'>"
            ]
          },
          "metadata": {},
          "execution_count": 17
        },
        {
          "output_type": "display_data",
          "data": {
            "text/plain": [
              "<Figure size 640x480 with 1 Axes>"
            ],
            "image/png": "[encoded data removed]"
          },
          "metadata": {}
        }
      ]
    },
    {
      "cell_type": "code",
      "source": [
        "dataset.loc[dataset['Ecosystem'] == 'MTO-SOFA'].groupby(['Description','QC_CAT'])['Doorstep Replacements'].sum().sort_values(ascending=False).head(10)"
      ],
      "metadata": {
        "colab": {
          "base_uri": "https://localhost:8080/"
        },
        "id": "lzFSltMpP7kj",
        "outputId": "62e91258-82de-466a-f2e4-5397353c195a"
      },
      "execution_count": 20,
      "outputs": [
        {
          "output_type": "execute_result",
          "data": {
            "text/plain": [
              "Description                                                                                     QC_CAT\n",
              "Apollo Sofa (Sofa Size: Regular, Material: Leatherette, Colour: Chocolate,                      A+        146\n",
              "Apollo Sofa (Sofa Size: Regular, Material: Leatherette, Colour: Burgundy,                       A+        114\n",
              "Apollo Sofa (Sofa Size: Regular, Material: Leatherette, Colour: Cappuccino,                     A+         95\n",
              "Apollo Sofa (Sofa Size: Compact, Material: Leatherette, Colour: Cappuccino,                     A+         93\n",
              "Apollo Sofa (Sofa Size: Compact, Material: Leatherette, Colour: Chocolate,                      A+         88\n",
              "Apollo Sofa (Sofa Size: Compact, Material: Leatherette, Colour: Burgundy,                       A+         82\n",
              "Apollo Sofa (Sofa Size: Regular, Material: Fabric, Colour: Pearl, Cushion Firmness: Soft,       A+         77\n",
              "Apollo Sofa (Sofa Size: Compact, Material: Fabric, Colour: Smoke, Cushion Firmness: Soft,       A+         75\n",
              "Apollo Sofa (Sofa Size: Compact, Material: Fabric, Colour: Dark Earth, Cushion Firmness: Soft,  A+         74\n",
              "Apollo Sofa (Sofa Size: Regular, Material: Fabric, Colour: Cobalt, Cushion Firmness: Hard,      A+         74\n",
              "Name: Doorstep Replacements, dtype: int64"
            ]
          },
          "metadata": {},
          "execution_count": 20
        }
      ]
    },
    {
      "cell_type": "markdown",
      "source": [
        "DATA PREPROCESSING\n"
      ],
      "metadata": {
        "id": "NSveSqRX1J-Q"
      }
    },
    {
      "cell_type": "code",
      "source": [
        "count = (dataset['Delivered'] == 0).sum()\n",
        "count"
      ],
      "metadata": {
        "id": "ff-ttnd6VHku",
        "colab": {
          "base_uri": "https://localhost:8080/"
        },
        "outputId": "f49b32b2-c451-4d4f-8ad1-83db9206838e"
      },
      "execution_count": 21,
      "outputs": [
        {
          "output_type": "execute_result",
          "data": {
            "text/plain": [
              "0"
            ]
          },
          "metadata": {},
          "execution_count": 21
        }
      ]
    },
    {
      "cell_type": "code",
      "source": [
        "dataset = dataset.replace(np.nan,'',regex=True)"
      ],
      "metadata": {
        "id": "eZrMWA4D5Kcb"
      },
      "execution_count": 22,
      "outputs": []
    },
    {
      "cell_type": "code",
      "source": [
        "#dataset.info()"
      ],
      "metadata": {
        "id": "8ZjaWpG2SCUk"
      },
      "execution_count": null,
      "outputs": []
    },
    {
      "cell_type": "code",
      "source": [
        "dataset['QC_CAT'].value_counts()"
      ],
      "metadata": {
        "id": "h8x1crwH6G5O",
        "colab": {
          "base_uri": "https://localhost:8080/"
        },
        "outputId": "f47fa476-20dc-4369-bb72-5f21b28008af"
      },
      "execution_count": 23,
      "outputs": [
        {
          "output_type": "execute_result",
          "data": {
            "text/plain": [
              "QC_CAT\n",
              "A+    8337\n",
              "B      528\n",
              "C      293\n",
              "        89\n",
              "A       16\n",
              "Name: count, dtype: int64"
            ]
          },
          "metadata": {},
          "execution_count": 23
        }
      ]
    },
    {
      "cell_type": "code",
      "source": [
        "QC_CAT = {'':4,\n",
        "          'A+':4,\n",
        "            'A':3,\n",
        "            'B':2,\n",
        "            'C':1,\n",
        "            'D':1}\n",
        "# apply using map\n",
        "dataset['QC_CAT'] = dataset.QC_CAT.map(QC_CAT)"
      ],
      "metadata": {
        "id": "jL6odf30Vtzf"
      },
      "execution_count": 24,
      "outputs": []
    },
    {
      "cell_type": "code",
      "source": [
        "dataset['QC_CAT'].value_counts()"
      ],
      "metadata": {
        "colab": {
          "base_uri": "https://localhost:8080/"
        },
        "id": "ykTtW3bOV7WW",
        "outputId": "d5b09375-6e3c-402d-f40b-bbc7264b2f57"
      },
      "execution_count": 25,
      "outputs": [
        {
          "output_type": "execute_result",
          "data": {
            "text/plain": [
              "QC_CAT\n",
              "4    8426\n",
              "2     528\n",
              "1     293\n",
              "3      16\n",
              "Name: count, dtype: int64"
            ]
          },
          "metadata": {},
          "execution_count": 25
        }
      ]
    },
    {
      "cell_type": "code",
      "source": [
        "#dataset.rename(columns = {'No_':'SKU'}, inplace = True)\n",
        "dataset['QC_CAT'].value_counts().plot(kind='pie',autopct='%.2f')"
      ],
      "metadata": {
        "id": "OvNjsgsukaGI",
        "colab": {
          "base_uri": "https://localhost:8080/",
          "height": 423
        },
        "outputId": "a1860e58-3816-4717-c237-97ebcbe74306"
      },
      "execution_count": 26,
      "outputs": [
        {
          "output_type": "execute_result",
          "data": {
            "text/plain": [
              "<Axes: ylabel='count'>"
            ]
          },
          "metadata": {},
          "execution_count": 26
        },
        {
          "output_type": "display_data",
          "data": {
            "text/plain": [
              "<Figure size 640x480 with 1 Axes>"
            ],
            "image/png": "[encoded data removed]"
          },
          "metadata": {}
        }
      ]
    },
    {
      "cell_type": "code",
      "source": [
        "dataset['SKU'].value_counts()"
      ],
      "metadata": {
        "id": "l-EyLZlANeJ7",
        "colab": {
          "base_uri": "https://localhost:8080/"
        },
        "outputId": "db717663-8344-4221-f772-6c6bd06c1a5d"
      },
      "execution_count": null,
      "outputs": [
        {
          "output_type": "execute_result",
          "data": {
            "text/plain": [
              "ACBNRC51BE10003    1\n",
              "FNTBST41CW30184    1\n",
              "FNTBCF11TK15326    1\n",
              "FNTBCF12NA15309    1\n",
              "FNTBCF12WA15281    1\n",
              "                  ..\n",
              "FNSF51CFCO30321    1\n",
              "FNSF51CFCO33211    1\n",
              "FNSF51CFCU30001    1\n",
              "FNSF51CFCU30002    1\n",
              "VDWDWP85GD19901    1\n",
              "Name: SKU, Length: 9263, dtype: int64"
            ]
          },
          "metadata": {},
          "execution_count": 20
        }
      ]
    },
    {
      "cell_type": "code",
      "source": [
        "dataset.rename(columns={'Final Move': 'Final_Move'}, inplace=True)"
      ],
      "metadata": {
        "id": "9LcwRCnubT2C"
      },
      "execution_count": 27,
      "outputs": []
    },
    {
      "cell_type": "code",
      "source": [
        "#SKU = pd.get_dummies(dataset['SKU'], drop_first = True)\n",
        "#SKU.head()"
      ],
      "metadata": {
        "id": "eZThN58L56l_"
      },
      "execution_count": null,
      "outputs": []
    },
    {
      "cell_type": "code",
      "source": [
        "#dataset = pd.concat([SKU,dataset],axis=1)\n",
        "#dataset.head(5)"
      ],
      "metadata": {
        "id": "ZpH3AB7f6P1Y"
      },
      "execution_count": null,
      "outputs": []
    },
    {
      "cell_type": "code",
      "source": [
        "dataset.drop(['SKU','Ecosystem', 'Description','Default  QC CAT.','Delivery Check','Reject Check','Default Move','Current Move','Int. Move','Doorstep Replacements %','Doorstep Repairs %','FC/DC Rejects %','Movement'], axis=1, inplace=True)\n"
      ],
      "metadata": {
        "id": "NCdLvQI8bx1e"
      },
      "execution_count": 28,
      "outputs": []
    },
    {
      "cell_type": "code",
      "source": [
        "dataset['Final_Move'].value_counts()"
      ],
      "metadata": {
        "id": "LSOZxSCv80Sj",
        "colab": {
          "base_uri": "https://localhost:8080/"
        },
        "outputId": "3b513da6-c014-4a6f-a7f3-fd4e9c997732"
      },
      "execution_count": 29,
      "outputs": [
        {
          "output_type": "execute_result",
          "data": {
            "text/plain": [
              "Final_Move\n",
              "A     4431\n",
              "A+    4044\n",
              "C      659\n",
              "B      129\n",
              "Name: count, dtype: int64"
            ]
          },
          "metadata": {},
          "execution_count": 29
        }
      ]
    },
    {
      "cell_type": "code",
      "source": [
        "Final_Move = {'A+':4,\n",
        "            'A':3,\n",
        "            'B':2,\n",
        "            'C':1,\n",
        "            'D':1}\n",
        "# apply using map\n",
        "dataset['Final_Move'] = dataset.Final_Move.map(Final_Move)"
      ],
      "metadata": {
        "id": "WudY3-ujt1fp"
      },
      "execution_count": 30,
      "outputs": []
    },
    {
      "cell_type": "code",
      "source": [
        "dataset.shape"
      ],
      "metadata": {
        "colab": {
          "base_uri": "https://localhost:8080/"
        },
        "id": "oBxgLMh82hBX",
        "outputId": "eea93f21-35db-4810-fe27-10eeec259be7"
      },
      "execution_count": 31,
      "outputs": [
        {
          "output_type": "execute_result",
          "data": {
            "text/plain": [
              "(9263, 6)"
            ]
          },
          "metadata": {},
          "execution_count": 31
        }
      ]
    },
    {
      "cell_type": "code",
      "source": [
        "dataset.head(5)"
      ],
      "metadata": {
        "colab": {
          "base_uri": "https://localhost:8080/",
          "height": 206
        },
        "id": "OV0lOy_9_lQ8",
        "outputId": "291e096a-6bdc-4a13-d253-bc0d5e909a93"
      },
      "execution_count": 32,
      "outputs": [
        {
          "output_type": "execute_result",
          "data": {
            "text/plain": [
              "   QC_CAT  Delivered  Doorstep Replacements  Doorstep Repairs  FC/DC Rejects  \\\n",
              "0       2         40                      0                 0              0   \n",
              "1       4          3                      0                 0              0   \n",
              "2       4         18                      0                 0              0   \n",
              "3       4        154                      0                 0              0   \n",
              "4       4         58                      0                 0              0   \n",
              "\n",
              "   Final_Move  \n",
              "0           3  \n",
              "1           4  \n",
              "2           4  \n",
              "3           4  \n",
              "4           4  "
            ],
            "text/html": [
              "\n",
              "  <div id=\"df-c0d99f89-332d-413e-a3d1-c18e5ae45411\" class=\"colab-df-container\">\n",
              "    <div>\n",
              "<style scoped>\n",
              "    .dataframe tbody tr th:only-of-type {\n",
              "        vertical-align: middle;\n",
              "    }\n",
              "\n",
              "    .dataframe tbody tr th {\n",
              "        vertical-align: top;\n",
              "    }\n",
              "\n",
              "    .dataframe thead th {\n",
              "        text-align: right;\n",
              "    }\n",
              "</style>\n",
              "<table border=\"1\" class=\"dataframe\">\n",
              "  <thead>\n",
              "    <tr style=\"text-align: right;\">\n",
              "      <th></th>\n",
              "      <th>QC_CAT</th>\n",
              "      <th>Delivered</th>\n",
              "      <th>Doorstep Replacements</th>\n",
              "      <th>Doorstep Repairs</th>\n",
              "      <th>FC/DC Rejects</th>\n",
              "      <th>Final_Move</th>\n",
              "    </tr>\n",
              "  </thead>\n",
              "  <tbody>\n",
              "    <tr>\n",
              "      <th>0</th>\n",
              "      <td>2</td>\n",
              "      <td>40</td>\n",
              "      <td>0</td>\n",
              "      <td>0</td>\n",
              "      <td>0</td>\n",
              "      <td>3</td>\n",
              "    </tr>\n",
              "    <tr>\n",
              "      <th>1</th>\n",
              "      <td>4</td>\n",
              "      <td>3</td>\n",
              "      <td>0</td>\n",
              "      <td>0</td>\n",
              "      <td>0</td>\n",
              "      <td>4</td>\n",
              "    </tr>\n",
              "    <tr>\n",
              "      <th>2</th>\n",
              "      <td>4</td>\n",
              "      <td>18</td>\n",
              "      <td>0</td>\n",
              "      <td>0</td>\n",
              "      <td>0</td>\n",
              "      <td>4</td>\n",
              "    </tr>\n",
              "    <tr>\n",
              "      <th>3</th>\n",
              "      <td>4</td>\n",
              "      <td>154</td>\n",
              "      <td>0</td>\n",
              "      <td>0</td>\n",
              "      <td>0</td>\n",
              "      <td>4</td>\n",
              "    </tr>\n",
              "    <tr>\n",
              "      <th>4</th>\n",
              "      <td>4</td>\n",
              "      <td>58</td>\n",
              "      <td>0</td>\n",
              "      <td>0</td>\n",
              "      <td>0</td>\n",
              "      <td>4</td>\n",
              "    </tr>\n",
              "  </tbody>\n",
              "</table>\n",
              "</div>\n",
              "    <div class=\"colab-df-buttons\">\n",
              "\n",
              "  <div class=\"colab-df-container\">\n",
              "    <button class=\"colab-df-convert\" onclick=\"convertToInteractive('df-c0d99f89-332d-413e-a3d1-c18e5ae45411')\"\n",
              "            title=\"Convert this dataframe to an interactive table.\"\n",
              "            style=\"display:none;\">\n",
              "\n",
              "  <svg xmlns=\"http://www.w3.org/2000/svg\" height=\"24px\" viewBox=\"0 -960 960 960\">\n",
              "    <path d=\"M120-120v-720h720v720H120Zm60-500h600v-160H180v160Zm220 220h160v-160H400v160Zm0 220h160v-160H400v160ZM180-400h160v-160H180v160Zm440 0h160v-160H620v160ZM180-180h160v-160H180v160Zm440 0h160v-160H620v160Z\"/>\n",
              "  </svg>\n",
              "    </button>\n",
              "\n",
              "  <style>\n",
              "    .colab-df-container {\n",
              "      display:flex;\n",
              "      gap: 12px;\n",
              "    }\n",
              "\n",
              "    .colab-df-convert {\n",
              "      background-color: #E8F0FE;\n",
              "      border: none;\n",
              "      border-radius: 50%;\n",
              "      cursor: pointer;\n",
              "      display: none;\n",
              "      fill: #1967D2;\n",
              "      height: 32px;\n",
              "      padding: 0 0 0 0;\n",
              "      width: 32px;\n",
              "    }\n",
              "\n",
              "    .colab-df-convert:hover {\n",
              "      background-color: #E2EBFA;\n",
              "      box-shadow: 0px 1px 2px rgba(60, 64, 67, 0.3), 0px 1px 3px 1px rgba(60, 64, 67, 0.15);\n",
              "      fill: #174EA6;\n",
              "    }\n",
              "\n",
              "    .colab-df-buttons div {\n",
              "      margin-bottom: 4px;\n",
              "    }\n",
              "\n",
              "    [theme=dark] .colab-df-convert {\n",
              "      background-color: #3B4455;\n",
              "      fill: #D2E3FC;\n",
              "    }\n",
              "\n",
              "    [theme=dark] .colab-df-convert:hover {\n",
              "      background-color: #434B5C;\n",
              "      box-shadow: 0px 1px 3px 1px rgba(0, 0, 0, 0.15);\n",
              "      filter: drop-shadow(0px 1px 2px rgba(0, 0, 0, 0.3));\n",
              "      fill: #FFFFFF;\n",
              "    }\n",
              "  </style>\n",
              "\n",
              "    <script>\n",
              "      const buttonEl =\n",
              "        document.querySelector('#df-c0d99f89-332d-413e-a3d1-c18e5ae45411 button.colab-df-convert');\n",
              "      buttonEl.style.display =\n",
              "        google.colab.kernel.accessAllowed ? 'block' : 'none';\n",
              "\n",
              "      async function convertToInteractive(key) {\n",
              "        const element = document.querySelector('#df-c0d99f89-332d-413e-a3d1-c18e5ae45411');\n",
              "        const dataTable =\n",
              "          await google.colab.kernel.invokeFunction('convertToInteractive',\n",
              "                                                    [key], {});\n",
              "        if (!dataTable) return;\n",
              "\n",
              "        const docLinkHtml = 'Like what you see? Visit the ' +\n",
              "          '<a target=\"_blank\" href=https://colab.research.google.com/notebooks/data_table.ipynb>data table notebook</a>'\n",
              "          + ' to learn more about interactive tables.';\n",
              "        element.innerHTML = '';\n",
              "        dataTable['output_type'] = 'display_data';\n",
              "        await google.colab.output.renderOutput(dataTable, element);\n",
              "        const docLink = document.createElement('div');\n",
              "        docLink.innerHTML = docLinkHtml;\n",
              "        element.appendChild(docLink);\n",
              "      }\n",
              "    </script>\n",
              "  </div>\n",
              "\n",
              "\n",
              "<div id=\"df-416bdb6b-e6f0-42e1-905b-18f3b2672338\">\n",
              "  <button class=\"colab-df-quickchart\" onclick=\"quickchart('df-416bdb6b-e6f0-42e1-905b-18f3b2672338')\"\n",
              "            title=\"Suggest charts\"\n",
              "            style=\"display:none;\">\n",
              "\n",
              "<svg xmlns=\"http://www.w3.org/2000/svg\" height=\"24px\"viewBox=\"0 0 24 24\"\n",
              "     width=\"24px\">\n",
              "    <g>\n",
              "        <path d=\"M19 3H5c-1.1 0-2 .9-2 2v14c0 1.1.9 2 2 2h14c1.1 0 2-.9 2-2V5c0-1.1-.9-2-2-2zM9 17H7v-7h2v7zm4 0h-2V7h2v10zm4 0h-2v-4h2v4z\"/>\n",
              "    </g>\n",
              "</svg>\n",
              "  </button>\n",
              "\n",
              "<style>\n",
              "  .colab-df-quickchart {\n",
              "      --bg-color: #E8F0FE;\n",
              "      --fill-color: #1967D2;\n",
              "      --hover-bg-color: #E2EBFA;\n",
              "      --hover-fill-color: #174EA6;\n",
              "      --disabled-fill-color: #AAA;\n",
              "      --disabled-bg-color: #DDD;\n",
              "  }\n",
              "\n",
              "  [theme=dark] .colab-df-quickchart {\n",
              "      --bg-color: #3B4455;\n",
              "      --fill-color: #D2E3FC;\n",
              "      --hover-bg-color: #434B5C;\n",
              "      --hover-fill-color: #FFFFFF;\n",
              "      --disabled-bg-color: #3B4455;\n",
              "      --disabled-fill-color: #666;\n",
              "  }\n",
              "\n",
              "  .colab-df-quickchart {\n",
              "    background-color: var(--bg-color);\n",
              "    border: none;\n",
              "    border-radius: 50%;\n",
              "    cursor: pointer;\n",
              "    display: none;\n",
              "    fill: var(--fill-color);\n",
              "    height: 32px;\n",
              "    padding: 0;\n",
              "    width: 32px;\n",
              "  }\n",
              "\n",
              "  .colab-df-quickchart:hover {\n",
              "    background-color: var(--hover-bg-color);\n",
              "    box-shadow: 0 1px 2px rgba(60, 64, 67, 0.3), 0 1px 3px 1px rgba(60, 64, 67, 0.15);\n",
              "    fill: var(--button-hover-fill-color);\n",
              "  }\n",
              "\n",
              "  .colab-df-quickchart-complete:disabled,\n",
              "  .colab-df-quickchart-complete:disabled:hover {\n",
              "    background-color: var(--disabled-bg-color);\n",
              "    fill: var(--disabled-fill-color);\n",
              "    box-shadow: none;\n",
              "  }\n",
              "\n",
              "  .colab-df-spinner {\n",
              "    border: 2px solid var(--fill-color);\n",
              "    border-color: transparent;\n",
              "    border-bottom-color: var(--fill-color);\n",
              "    animation:\n",
              "      spin 1s steps(1) infinite;\n",
              "  }\n",
              "\n",
              "  @keyframes spin {\n",
              "    0% {\n",
              "      border-color: transparent;\n",
              "      border-bottom-color: var(--fill-color);\n",
              "      border-left-color: var(--fill-color);\n",
              "    }\n",
              "    20% {\n",
              "      border-color: transparent;\n",
              "      border-left-color: var(--fill-color);\n",
              "      border-top-color: var(--fill-color);\n",
              "    }\n",
              "    30% {\n",
              "      border-color: transparent;\n",
              "      border-left-color: var(--fill-color);\n",
              "      border-top-color: var(--fill-color);\n",
              "      border-right-color: var(--fill-color);\n",
              "    }\n",
              "    40% {\n",
              "      border-color: transparent;\n",
              "      border-right-color: var(--fill-color);\n",
              "      border-top-color: var(--fill-color);\n",
              "    }\n",
              "    60% {\n",
              "      border-color: transparent;\n",
              "      border-right-color: var(--fill-color);\n",
              "    }\n",
              "    80% {\n",
              "      border-color: transparent;\n",
              "      border-right-color: var(--fill-color);\n",
              "      border-bottom-color: var(--fill-color);\n",
              "    }\n",
              "    90% {\n",
              "      border-color: transparent;\n",
              "      border-bottom-color: var(--fill-color);\n",
              "    }\n",
              "  }\n",
              "</style>\n",
              "\n",
              "  <script>\n",
              "    async function quickchart(key) {\n",
              "      const quickchartButtonEl =\n",
              "        document.querySelector('#' + key + ' button');\n",
              "      quickchartButtonEl.disabled = true;  // To prevent multiple clicks.\n",
              "      quickchartButtonEl.classList.add('colab-df-spinner');\n",
              "      try {\n",
              "        const charts = await google.colab.kernel.invokeFunction(\n",
              "            'suggestCharts', [key], {});\n",
              "      } catch (error) {\n",
              "        console.error('Error during call to suggestCharts:', error);\n",
              "      }\n",
              "      quickchartButtonEl.classList.remove('colab-df-spinner');\n",
              "      quickchartButtonEl.classList.add('colab-df-quickchart-complete');\n",
              "    }\n",
              "    (() => {\n",
              "      let quickchartButtonEl =\n",
              "        document.querySelector('#df-416bdb6b-e6f0-42e1-905b-18f3b2672338 button');\n",
              "      quickchartButtonEl.style.display =\n",
              "        google.colab.kernel.accessAllowed ? 'block' : 'none';\n",
              "    })();\n",
              "  </script>\n",
              "</div>\n",
              "\n",
              "    </div>\n",
              "  </div>\n"
            ],
            "application/vnd.google.colaboratory.intrinsic+json": {
              "type": "dataframe",
              "variable_name": "dataset",
              "summary": "{\n  \"name\": \"dataset\",\n  \"rows\": 9263,\n  \"fields\": [\n    {\n      \"column\": \"QC_CAT\",\n      \"properties\": {\n        \"dtype\": \"number\",\n        \"std\": 0,\n        \"min\": 1,\n        \"max\": 4,\n        \"num_unique_values\": 4,\n        \"samples\": [\n          4,\n          3,\n          2\n        ],\n        \"semantic_type\": \"\",\n        \"description\": \"\"\n      }\n    },\n    {\n      \"column\": \"Delivered\",\n      \"properties\": {\n        \"dtype\": \"number\",\n        \"std\": 67,\n        \"min\": 1,\n        \"max\": 394,\n        \"num_unique_values\": 249,\n        \"samples\": [\n          168,\n          10,\n          108\n        ],\n        \"semantic_type\": \"\",\n        \"description\": \"\"\n      }\n    },\n    {\n      \"column\": \"Doorstep Replacements\",\n      \"properties\": {\n        \"dtype\": \"number\",\n        \"std\": 3,\n        \"min\": 0,\n        \"max\": 20,\n        \"num_unique_values\": 21,\n        \"samples\": [\n          0,\n          12,\n          11\n        ],\n        \"semantic_type\": \"\",\n        \"description\": \"\"\n      }\n    },\n    {\n      \"column\": \"Doorstep Repairs\",\n      \"properties\": {\n        \"dtype\": \"number\",\n        \"std\": 3,\n        \"min\": 0,\n        \"max\": 20,\n        \"num_unique_values\": 21,\n        \"samples\": [\n          0,\n          11,\n          12\n        ],\n        \"semantic_type\": \"\",\n        \"description\": \"\"\n      }\n    },\n    {\n      \"column\": \"FC/DC Rejects\",\n      \"properties\": {\n        \"dtype\": \"number\",\n        \"std\": 1,\n        \"min\": 0,\n        \"max\": 80,\n        \"num_unique_values\": 25,\n        \"samples\": [\n          25,\n          80,\n          0\n        ],\n        \"semantic_type\": \"\",\n        \"description\": \"\"\n      }\n    },\n    {\n      \"column\": \"Final_Move\",\n      \"properties\": {\n        \"dtype\": \"number\",\n        \"std\": 0,\n        \"min\": 1,\n        \"max\": 4,\n        \"num_unique_values\": 4,\n        \"samples\": [\n          4,\n          2,\n          3\n        ],\n        \"semantic_type\": \"\",\n        \"description\": \"\"\n      }\n    }\n  ]\n}"
            }
          },
          "metadata": {},
          "execution_count": 32
        }
      ]
    },
    {
      "cell_type": "markdown",
      "source": [
        "TRAIN_TEST SPLIT"
      ],
      "metadata": {
        "id": "HdIYZxZkM1ea"
      }
    },
    {
      "cell_type": "code",
      "source": [
        "X = dataset.iloc[:,:-1]\n",
        "y = dataset.iloc[:,-1]\n"
      ],
      "metadata": {
        "id": "eWZmxlsp-OqW"
      },
      "execution_count": 33,
      "outputs": []
    },
    {
      "cell_type": "code",
      "source": [
        "X_train, X_test, y_train, y_test = train_test_split(X, y, test_size=0.30, random_state=42)\n"
      ],
      "metadata": {
        "id": "ALynmoMwDMn4"
      },
      "execution_count": 34,
      "outputs": []
    },
    {
      "cell_type": "markdown",
      "source": [
        "LOGISTIC REGRESSION"
      ],
      "metadata": {
        "id": "P1vJ8mEJNVSj"
      }
    },
    {
      "cell_type": "code",
      "source": [
        "\n",
        "#model = LogisticRegression()"
      ],
      "metadata": {
        "id": "HY-r8IKmFA8f"
      },
      "execution_count": null,
      "outputs": []
    },
    {
      "cell_type": "code",
      "source": [
        "#model.fit(X_train,y_train)"
      ],
      "metadata": {
        "id": "iC1HSaq4FFBK"
      },
      "execution_count": null,
      "outputs": []
    },
    {
      "cell_type": "code",
      "source": [
        "#print(\"Accuracy:\", model.score(X_test,y_test)) = 95.42%"
      ],
      "metadata": {
        "id": "_zce3ab-Fbf-"
      },
      "execution_count": null,
      "outputs": []
    },
    {
      "cell_type": "markdown",
      "source": [
        "SUPPORT VECTOR MACHINE"
      ],
      "metadata": {
        "id": "DSlPY4taNsQ9"
      }
    },
    {
      "cell_type": "code",
      "source": [
        "#model = svm.SVC()"
      ],
      "metadata": {
        "id": "-LlAKtEVKs_e"
      },
      "execution_count": null,
      "outputs": []
    },
    {
      "cell_type": "code",
      "source": [
        "#model.fit(X_train,y_train)\n"
      ],
      "metadata": {
        "id": "wKy8ciNAKzLH"
      },
      "execution_count": null,
      "outputs": []
    },
    {
      "cell_type": "code",
      "source": [
        "#print(\"Accuracy:\", model.score(X_test,y_test)) = 87.3%"
      ],
      "metadata": {
        "id": "lymy80ZyLAeI"
      },
      "execution_count": null,
      "outputs": []
    },
    {
      "cell_type": "code",
      "source": [
        "model = DecisionTreeClassifier()"
      ],
      "metadata": {
        "id": "noQjnxtuLHka"
      },
      "execution_count": 35,
      "outputs": []
    },
    {
      "cell_type": "code",
      "source": [
        "model.fit(X_train,y_train)"
      ],
      "metadata": {
        "colab": {
          "base_uri": "https://localhost:8080/",
          "height": 75
        },
        "id": "Xnem8ujYLTdR",
        "outputId": "a09802f1-781b-4d20-eab8-870ab3d6a386"
      },
      "execution_count": 36,
      "outputs": [
        {
          "output_type": "execute_result",
          "data": {
            "text/plain": [
              "DecisionTreeClassifier()"
            ],
            "text/html": [
              "<style>#sk-container-id-1 {color: black;background-color: white;}#sk-container-id-1 pre{padding: 0;}#sk-container-id-1 div.sk-toggleable {background-color: white;}#sk-container-id-1 label.sk-toggleable__label {cursor: pointer;display: block;width: 100%;margin-bottom: 0;padding: 0.3em;box-sizing: border-box;text-align: center;}#sk-container-id-1 label.sk-toggleable__label-arrow:before {content: \"▸\";float: left;margin-right: 0.25em;color: #696969;}#sk-container-id-1 label.sk-toggleable__label-arrow:hover:before {color: black;}#sk-container-id-1 div.sk-estimator:hover label.sk-toggleable__label-arrow:before {color: black;}#sk-container-id-1 div.sk-toggleable__content {max-height: 0;max-width: 0;overflow: hidden;text-align: left;background-color: #f0f8ff;}#sk-container-id-1 div.sk-toggleable__content pre {margin: 0.2em;color: black;border-radius: 0.25em;background-color: #f0f8ff;}#sk-container-id-1 input.sk-toggleable__control:checked~div.sk-toggleable__content {max-height: 200px;max-width: 100%;overflow: auto;}#sk-container-id-1 input.sk-toggleable__control:checked~label.sk-toggleable__label-arrow:before {content: \"▾\";}#sk-container-id-1 div.sk-estimator input.sk-toggleable__control:checked~label.sk-toggleable__label {background-color: #d4ebff;}#sk-container-id-1 div.sk-label input.sk-toggleable__control:checked~label.sk-toggleable__label {background-color: #d4ebff;}#sk-container-id-1 input.sk-hidden--visually {border: 0;clip: rect(1px 1px 1px 1px);clip: rect(1px, 1px, 1px, 1px);height: 1px;margin: -1px;overflow: hidden;padding: 0;position: absolute;width: 1px;}#sk-container-id-1 div.sk-estimator {font-family: monospace;background-color: #f0f8ff;border: 1px dotted black;border-radius: 0.25em;box-sizing: border-box;margin-bottom: 0.5em;}#sk-container-id-1 div.sk-estimator:hover {background-color: #d4ebff;}#sk-container-id-1 div.sk-parallel-item::after {content: \"\";width: 100%;border-bottom: 1px solid gray;flex-grow: 1;}#sk-container-id-1 div.sk-label:hover label.sk-toggleable__label {background-color: #d4ebff;}#sk-container-id-1 div.sk-serial::before {content: \"\";position: absolute;border-left: 1px solid gray;box-sizing: border-box;top: 0;bottom: 0;left: 50%;z-index: 0;}#sk-container-id-1 div.sk-serial {display: flex;flex-direction: column;align-items: center;background-color: white;padding-right: 0.2em;padding-left: 0.2em;position: relative;}#sk-container-id-1 div.sk-item {position: relative;z-index: 1;}#sk-container-id-1 div.sk-parallel {display: flex;align-items: stretch;justify-content: center;background-color: white;position: relative;}#sk-container-id-1 div.sk-item::before, #sk-container-id-1 div.sk-parallel-item::before {content: \"\";position: absolute;border-left: 1px solid gray;box-sizing: border-box;top: 0;bottom: 0;left: 50%;z-index: -1;}#sk-container-id-1 div.sk-parallel-item {display: flex;flex-direction: column;z-index: 1;position: relative;background-color: white;}#sk-container-id-1 div.sk-parallel-item:first-child::after {align-self: flex-end;width: 50%;}#sk-container-id-1 div.sk-parallel-item:last-child::after {align-self: flex-start;width: 50%;}#sk-container-id-1 div.sk-parallel-item:only-child::after {width: 0;}#sk-container-id-1 div.sk-dashed-wrapped {border: 1px dashed gray;margin: 0 0.4em 0.5em 0.4em;box-sizing: border-box;padding-bottom: 0.4em;background-color: white;}#sk-container-id-1 div.sk-label label {font-family: monospace;font-weight: bold;display: inline-block;line-height: 1.2em;}#sk-container-id-1 div.sk-label-container {text-align: center;}#sk-container-id-1 div.sk-container {/* jupyter's `normalize.less` sets `[hidden] { display: none; }` but bootstrap.min.css set `[hidden] { display: none !important; }` so we also need the `!important` here to be able to override the default hidden behavior on the sphinx rendered scikit-learn.org. See: https://github.com/scikit-learn/scikit-learn/issues/21755 */display: inline-block !important;position: relative;}#sk-container-id-1 div.sk-text-repr-fallback {display: none;}</style><div id=\"sk-container-id-1\" class=\"sk-top-container\"><div class=\"sk-text-repr-fallback\"><pre>DecisionTreeClassifier()</pre><b>In a Jupyter environment, please rerun this cell to show the HTML representation or trust the notebook. <br />On GitHub, the HTML representation is unable to render, please try loading this page with nbviewer.org.</b></div><div class=\"sk-container\" hidden><div class=\"sk-item\"><div class=\"sk-estimator sk-toggleable\"><input class=\"sk-toggleable__control sk-hidden--visually\" id=\"sk-estimator-id-1\" type=\"checkbox\" checked><label for=\"sk-estimator-id-1\" class=\"sk-toggleable__label sk-toggleable__label-arrow\">DecisionTreeClassifier</label><div class=\"sk-toggleable__content\"><pre>DecisionTreeClassifier()</pre></div></div></div></div></div>"
            ]
          },
          "metadata": {},
          "execution_count": 36
        }
      ]
    },
    {
      "cell_type": "code",
      "source": [
        "#model.fit(X,y)"
      ],
      "metadata": {
        "id": "er8BR3Ai9fIT"
      },
      "execution_count": null,
      "outputs": []
    },
    {
      "cell_type": "code",
      "source": [
        "print(\"Accuracy:\", model.score(X_test,y_test))"
      ],
      "metadata": {
        "colab": {
          "base_uri": "https://localhost:8080/"
        },
        "id": "ai8tMkIkLVmK",
        "outputId": "c304d8e0-f9b4-4969-8187-0577d06c37c9"
      },
      "execution_count": 37,
      "outputs": [
        {
          "output_type": "stream",
          "name": "stdout",
          "text": [
            "Accuracy: 0.9964015833033465\n"
          ]
        }
      ]
    },
    {
      "cell_type": "code",
      "source": [
        "from sklearn.model_selection import cross_val_score\n",
        "print(\"Scores:\",cross_val_score(model,X_train,y_train, cv=100, scoring='accuracy').mean())"
      ],
      "metadata": {
        "colab": {
          "base_uri": "https://localhost:8080/"
        },
        "id": "cUQVJW-qGVh6",
        "outputId": "51cb002a-f544-4ddf-9d08-2eff1d5c9a54"
      },
      "execution_count": 38,
      "outputs": [
        {
          "output_type": "stream",
          "name": "stderr",
          "text": [
            "/usr/local/lib/python3.10/dist-packages/sklearn/model_selection/_split.py:700: UserWarning: The least populated class in y has only 89 members, which is less than n_splits=100.\n",
            "  warnings.warn(\n"
          ]
        },
        {
          "output_type": "stream",
          "name": "stdout",
          "text": [
            "Scores: 0.9972187499999999\n"
          ]
        }
      ]
    },
    {
      "cell_type": "markdown",
      "source": [
        "CONFUSION MATRIX"
      ],
      "metadata": {
        "id": "EPj4HN6C3-Vi"
      }
    },
    {
      "cell_type": "code",
      "source": [
        "from sklearn.metrics import confusion_matrix, ConfusionMatrixDisplay\n"
      ],
      "metadata": {
        "id": "5WXw5MCYQo-4"
      },
      "execution_count": 41,
      "outputs": []
    },
    {
      "cell_type": "code",
      "source": [
        "model.classes_"
      ],
      "metadata": {
        "id": "yQrmkH2kgxhV",
        "colab": {
          "base_uri": "https://localhost:8080/"
        },
        "outputId": "a0e2b93f-aec6-481a-b7b4-2973a823abb8"
      },
      "execution_count": 42,
      "outputs": [
        {
          "output_type": "execute_result",
          "data": {
            "text/plain": [
              "array([1, 2, 3, 4])"
            ]
          },
          "metadata": {},
          "execution_count": 42
        }
      ]
    },
    {
      "cell_type": "code",
      "source": [
        "Y = model.predict(X_test)"
      ],
      "metadata": {
        "id": "ayeuN9nxwby4"
      },
      "execution_count": 44,
      "outputs": []
    },
    {
      "cell_type": "code",
      "source": [
        "cm = confusion_matrix(y_test,Y,labels=model.classes_)\n",
        "print(cm)"
      ],
      "metadata": {
        "id": "gSyTPczncIbP",
        "colab": {
          "base_uri": "https://localhost:8080/"
        },
        "outputId": "7d154004-2f71-402b-bfd2-d92dbfbbe492"
      },
      "execution_count": 45,
      "outputs": [
        {
          "output_type": "stream",
          "name": "stdout",
          "text": [
            "[[ 195    2    4    0]\n",
            " [   0   40    0    0]\n",
            " [   1    0 1315    0]\n",
            " [   0    1    2 1219]]\n"
          ]
        }
      ]
    },
    {
      "cell_type": "code",
      "source": [
        "cm_disp = ConfusionMatrixDisplay(confusion_matrix=cm, display_labels = ['C','B','A','A+'])\n",
        "cm_disp.plot()"
      ],
      "metadata": {
        "id": "RA1WfZ0_jP1A",
        "colab": {
          "base_uri": "https://localhost:8080/",
          "height": 466
        },
        "outputId": "ac306b88-a687-4f6e-b278-fe865e7b5a53"
      },
      "execution_count": 46,
      "outputs": [
        {
          "output_type": "execute_result",
          "data": {
            "text/plain": [
              "<sklearn.metrics._plot.confusion_matrix.ConfusionMatrixDisplay at 0x78408abb25c0>"
            ]
          },
          "metadata": {},
          "execution_count": 46
        },
        {
          "output_type": "display_data",
          "data": {
            "text/plain": [
              "<Figure size 640x480 with 2 Axes>"
            ],
            "image/png": "[encoded data removed]"
          },
          "metadata": {}
        }
      ]
    },
    {
      "cell_type": "markdown",
      "source": [
        "SAVE THE MODEL"
      ],
      "metadata": {
        "id": "aSrXe07HIQAU"
      }
    },
    {
      "cell_type": "code",
      "source": [
        "import pickle\n",
        "with open ('model_pickle','wb') as f:\n",
        " pickle.dump(model,f)"
      ],
      "metadata": {
        "id": "ynQzfg1B_4PA"
      },
      "execution_count": null,
      "outputs": []
    },
    {
      "cell_type": "code",
      "source": [],
      "metadata": {
        "id": "f_VvoylPkTXa"
      },
      "execution_count": null,
      "outputs": []
    }
  ]
}